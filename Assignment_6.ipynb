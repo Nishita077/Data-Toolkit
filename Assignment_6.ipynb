{
  "nbformat": 4,
  "nbformat_minor": 0,
  "metadata": {
    "colab": {
      "provenance": []
    },
    "kernelspec": {
      "name": "python3",
      "display_name": "Python 3"
    },
    "language_info": {
      "name": "python"
    }
  },
  "cells": [
    {
      "cell_type": "markdown",
      "source": [
        "#"
      ],
      "metadata": {
        "id": "gTJUS4IzV35K"
      }
    },
    {
      "cell_type": "markdown",
      "source": [
        "#Data Toolkit\n"
      ],
      "metadata": {
        "id": "Fn2cfL5KWalk"
      }
    },
    {
      "cell_type": "markdown",
      "source": [
        "###<b>Ques1) A What is NumPy, and why is it widely used in Python?</b>\n",
        "\n",
        "####NumPy:\n",
        "\n",
        "- NumPy (Numerical Python) is a Python library used for numerical computing.\n",
        "\n",
        "- It provides:\n",
        "\n",
        "    - N-dimensional array object (ndarray) → a fast, memory-efficient container for large datasets.\n",
        "\n",
        "    - Mathematical functions to operate on these arrays.\n",
        "\n",
        "     - Tools for linear algebra, statistics, Fourier transforms, random numbers, etc.\n",
        "\n",
        "Basically, NumPy is the foundation for most data science and machine learning libraries (like Pandas, SciPy, Scikit-learn, TensorFlow, PyTorch).\n",
        "\n",
        "###Why is NumPy Widely Used?\n",
        "1. Efficient Arrays (ndarray)\n",
        "\n",
        "- Much faster than Python lists (written in C for speed).\n",
        "\n",
        "- Arrays support vectorized operations → no need for slow for loops.\n",
        "\n",
        "Example:"
      ],
      "metadata": {
        "id": "-xnzBRmoWqMc"
      }
    },
    {
      "cell_type": "code",
      "source": [
        "import numpy as np\n",
        "\n",
        "a = np.array([1, 2, 3, 4])\n",
        "b = np.array([10, 20, 30, 40])\n",
        "\n",
        "print(a + b)   # [11 22 33 44]\n"
      ],
      "metadata": {
        "colab": {
          "base_uri": "https://localhost:8080/"
        },
        "id": "qGOD7ymBYmV7",
        "outputId": "24462a29-59f9-48ac-a988-8a8d2c5d0686"
      },
      "execution_count": null,
      "outputs": [
        {
          "output_type": "stream",
          "name": "stdout",
          "text": [
            "[11 22 33 44]\n"
          ]
        }
      ]
    },
    {
      "cell_type": "markdown",
      "source": [
        "2. Performance\n",
        "\n",
        "- NumPy operations are 10–100x faster than pure Python lists because:\n",
        "\n",
        "   -  Uses contiguous memory blocks (better cache efficiency).\n",
        "\n",
        "   - Runs vectorized operations in compiled C code.\n",
        "\n",
        "3. Mathematical Functions\n",
        "\n",
        "- Provides functions for:\n",
        "\n",
        "       Statistics: mean(), std(), var()\n",
        "\n",
        "       Linear algebra: dot(), eig(), inv()\n",
        "\n",
        "      Trigonometry, exponentials, logarithms, etc.\n",
        "\n",
        "4. Interoperability\n",
        "\n",
        "- Other libraries (Pandas, Matplotlib, SciPy, Scikit-learn, TensorFlow) are built on top of NumPy arrays.\n",
        "\n",
        "Acts as the universal data format in Python’s scientific ecosystem.\n",
        "\n",
        "5. Supports Multidimensional Data\n",
        "\n",
        "- Not just 1D like Python lists — supports 2D (matrices), 3D, and higher dimensions.\n",
        "\n",
        "Example:"
      ],
      "metadata": {
        "id": "I4zFQ3gWYwJL"
      }
    },
    {
      "cell_type": "code",
      "source": [
        "matrix = np.array([[1, 2, 3],\n",
        "                   [4, 5, 6]])\n",
        "print(matrix.shape)  # (2, 3)\n"
      ],
      "metadata": {
        "colab": {
          "base_uri": "https://localhost:8080/"
        },
        "id": "5yl7hRc6Zl-h",
        "outputId": "6e8d59b1-34f5-4aad-ac61-b47f16a9b316"
      },
      "execution_count": null,
      "outputs": [
        {
          "output_type": "stream",
          "name": "stdout",
          "text": [
            "(2, 3)\n"
          ]
        }
      ]
    },
    {
      "cell_type": "markdown",
      "source": [
        "6. Random Number Generation\n",
        "\n",
        "Useful for simulations, ML, and statistics:"
      ],
      "metadata": {
        "id": "9ZH7vGdcZuO3"
      }
    },
    {
      "cell_type": "code",
      "source": [
        "np.random.rand(3, 3)     # 3x3 matrix with random floats\n",
        "np.random.randint(1, 10, size=5)  # 5 random integers\n",
        "\n"
      ],
      "metadata": {
        "colab": {
          "base_uri": "https://localhost:8080/"
        },
        "id": "pVnPFte1ZxR_",
        "outputId": "7aaf4983-6de7-4149-e929-24b263bc960f"
      },
      "execution_count": null,
      "outputs": [
        {
          "output_type": "execute_result",
          "data": {
            "text/plain": [
              "array([2, 3, 1, 7, 1])"
            ]
          },
          "metadata": {},
          "execution_count": 3
        }
      ]
    },
    {
      "cell_type": "markdown",
      "source": [
        "###Ques_2) How does broadcasting work in NumPy?\n",
        "\n",
        "####Broadcasting in NumPy means:\n",
        "\n",
        "Performing airthmetic operations on arrays of different shapes by expanding the size of the smaller array so  their shapes are compatible.\n",
        "\n",
        "So, instead of manually duplicating data, Numpy \"broadcasts\" the smaller one across the larger array.\n",
        "\n",
        "Example:"
      ],
      "metadata": {
        "id": "80UF2g-oaDr_"
      }
    },
    {
      "cell_type": "code",
      "source": [
        "import numpy as np\n",
        "a = np.array([1, 12, 3])\n",
        "b = 5\n",
        "\n",
        "print(a+b)"
      ],
      "metadata": {
        "colab": {
          "base_uri": "https://localhost:8080/"
        },
        "id": "ls7UWg7mbU7N",
        "outputId": "d800e1dd-6c2f-4c78-c2ca-1ced746213bc"
      },
      "execution_count": null,
      "outputs": [
        {
          "output_type": "stream",
          "name": "stdout",
          "text": [
            "[ 6 17  8]\n"
          ]
        }
      ]
    },
    {
      "cell_type": "markdown",
      "source": [
        "Here, 5 is broadcasted to match the shape of a → [5, 5, 5]."
      ],
      "metadata": {
        "id": "HzcmLtDGbo3x"
      }
    },
    {
      "cell_type": "code",
      "source": [
        "#Example2\n",
        "\n",
        "a = np.array([[1, 2, 3],\n",
        "              [4, 5, 6]])\n",
        "b = np.array([10, 20, 30])\n",
        "\n",
        "print(a + b)"
      ],
      "metadata": {
        "colab": {
          "base_uri": "https://localhost:8080/"
        },
        "id": "FeQjcWJtbwrI",
        "outputId": "87688b87-fdf8-473a-db1e-f802fc851fdc"
      },
      "execution_count": null,
      "outputs": [
        {
          "output_type": "stream",
          "name": "stdout",
          "text": [
            "[[11 22 33]\n",
            " [14 25 36]]\n"
          ]
        }
      ]
    },
    {
      "cell_type": "markdown",
      "source": [
        "###<b>Ques_3) What is a Pandas DataFrame?</b>\n",
        "\n",
        "####A DataFrame in Pandas is:\n",
        "\n",
        "A 2-dimensional, tabular data structure (like an Excel spreadsheet or SQL table) with labeled rows and columns.\n",
        "\n",
        "- Think of it as a table where:\n",
        "\n",
        "      Rows = observations / records\n",
        "\n",
        "      Columns = features / variables\n",
        "\n",
        "It is built on top of NumPy arrays but adds:\n",
        "-  Labels (row index, column names)\n",
        "- Heterogeneous data (each column can have different data types)\n",
        "- Powerful tools for cleaning, analysis, and visualization\n",
        "\n",
        "\n",
        "Creating a DataFrame:"
      ],
      "metadata": {
        "id": "G3wKtRL0b611"
      }
    },
    {
      "cell_type": "code",
      "source": [
        "import pandas as pd\n",
        "\n",
        "# From dictionary\n",
        "data = {\n",
        "    \"Name\": [\"Alice\", \"Bob\", \"Charlie\"],\n",
        "    \"Age\": [25, 30, 35],\n",
        "    \"City\": [\"New York\", \"London\", \"Paris\"]\n",
        "}\n",
        "\n",
        "df = pd.DataFrame(data)\n",
        "print(df)\n"
      ],
      "metadata": {
        "colab": {
          "base_uri": "https://localhost:8080/"
        },
        "id": "VvhBnELTct6A",
        "outputId": "f9a90ebb-6501-4911-a52b-8fc6f96bfd86"
      },
      "execution_count": null,
      "outputs": [
        {
          "output_type": "stream",
          "name": "stdout",
          "text": [
            "      Name  Age      City\n",
            "0    Alice   25  New York\n",
            "1      Bob   30    London\n",
            "2  Charlie   35     Paris\n"
          ]
        }
      ]
    },
    {
      "cell_type": "markdown",
      "source": [
        "####Key Features of DataFrame\n",
        "\n",
        "- Size mutable → can add/drop rows & columns.\n",
        "\n",
        "- Heterogeneous → each column can be a different data type (int, float, string).\n",
        "\n",
        "- Labeled axes → easy access by row/column labels.\n",
        "\n",
        "- Rich functionality → filtering, grouping, merging, reshaping, statistics.\n",
        "\n",
        "- Handles missing data (NaN) gracefully."
      ],
      "metadata": {
        "id": "RLpRyIQ7c56R"
      }
    },
    {
      "cell_type": "markdown",
      "source": [
        "###<b>Ques_4) Explain the use of the groupby() method in Pandas.</b>\n",
        "\n",
        "####What is groupby() in Pandas?\n",
        "\n",
        "The groupby() method is used to:\n",
        "\n",
        "- Split the data into groups based on some criteria (e.g., by column values).\n",
        "\n",
        "- Apply a function (e.g., sum, mean, count, custom function) to each group.\n",
        "\n",
        "- Combine the results into a new DataFrame.\n",
        "\n",
        "- This is often called the “Split-Apply-Combine” strategy.\n",
        "\n",
        " Basic Syntax"
      ],
      "metadata": {
        "id": "1wpcLXoudFR_"
      }
    },
    {
      "cell_type": "code",
      "source": [
        "df.groupby(\"column_name\")\n",
        "df.groupby([\"col1\", \"col2\"])\n"
      ],
      "metadata": {
        "id": "5ylo6CUsdg2q"
      },
      "execution_count": null,
      "outputs": []
    },
    {
      "cell_type": "code",
      "source": [
        "import pandas as pd\n",
        "\n",
        "data = {\n",
        "    \"Department\": [\"HR\", \"HR\", \"IT\", \"IT\", \"Finance\", \"Finance\"],\n",
        "    \"Employee\": [\"Alice\", \"Bob\", \"Charlie\", \"David\", \"Eve\", \"Frank\"],\n",
        "    \"Salary\": [40000, 42000, 50000, 52000, 45000, 47000]\n",
        "}\n",
        "\n",
        "df = pd.DataFrame(data)\n",
        "\n",
        "# Average salary per department\n",
        "print(df.groupby(\"Department\")[\"Salary\"].mean())\n"
      ],
      "metadata": {
        "colab": {
          "base_uri": "https://localhost:8080/"
        },
        "id": "3BLgqjwpdqbH",
        "outputId": "eb83a370-8e18-4900-f468-e5c46433cd1f"
      },
      "execution_count": null,
      "outputs": [
        {
          "output_type": "stream",
          "name": "stdout",
          "text": [
            "Department\n",
            "Finance    46000.0\n",
            "HR         41000.0\n",
            "IT         51000.0\n",
            "Name: Salary, dtype: float64\n"
          ]
        }
      ]
    },
    {
      "cell_type": "markdown",
      "source": [
        "Common Aggregation Functions\n",
        "\n",
        "    .mean() → average\n",
        "\n",
        "     .sum() → total\n",
        "\n",
        "    .count() → number of items\n",
        "\n",
        "    .min(), .max() → extremes\n",
        "\n",
        "    .median() → middle value\n",
        "\n",
        "    .std() → standard deviation\n",
        "\n",
        "    .agg() → multiple/custom functions\n",
        "\n",
        "## Summary\n",
        "\n",
        "- groupby() helps analyze and summarize data efficiently.\n",
        "\n",
        "- Workflow = Split → Apply → Combine.\n",
        "\n",
        "- Works with built-in aggregations (sum, mean, count) or custom functions.\n",
        "\n",
        "- Essential for data analysis, reporting, and feature engineering."
      ],
      "metadata": {
        "id": "C5LLErLfd0Io"
      }
    },
    {
      "cell_type": "markdown",
      "source": [
        "###<b>Ques_5) Why is Seaborn preferred for statistical visualizations?</b>\n",
        "\n",
        "####Seaborn is Preferred for Statistical Visualizations\n",
        "\n",
        "- Seaborn is built on top of Matplotlib, but it is designed specifically for statistical data visualization. That makes it more convenient and powerful when working with datasets.\n",
        "\n",
        "####Here are the main reasons why Seaborn is preferred:\n",
        "\n",
        "1. High-level API (Less Code, More Power)\n",
        "\n",
        "- With Matplotlib, you often need many lines of code to get a polished plot.\n",
        "\n",
        "- Seaborn gives you ready-made functions that map well to common statistical tasks.\n",
        "\n",
        " Example: A regression plot in one line:\n",
        "\n"
      ],
      "metadata": {
        "id": "P-v6PfmdeNzR"
      }
    },
    {
      "cell_type": "code",
      "source": [
        "import seaborn as sns\n",
        "tips = sns.load_dataset(\"tips\")\n",
        "sns.lmplot(x=\"total_bill\", y=\"tip\", data=tips)"
      ],
      "metadata": {
        "colab": {
          "base_uri": "https://localhost:8080/",
          "height": 524
        },
        "id": "JjFqWtupexSy",
        "outputId": "21389bd5-1b99-4abc-b0ee-7f2781b5bdb3"
      },
      "execution_count": null,
      "outputs": [
        {
          "output_type": "execute_result",
          "data": {
            "text/plain": [
              "<seaborn.axisgrid.FacetGrid at 0x7a91ef5a0740>"
            ]
          },
          "metadata": {},
          "execution_count": 9
        },
        {
          "output_type": "display_data",
          "data": {
            "text/plain": [
              "<Figure size 500x500 with 1 Axes>"
            ],
            "image/png": "[encoded data removed]"
          },
          "metadata": {}
        }
      ]
    },
    {
      "cell_type": "markdown",
      "source": [
        "2. Better Default Aesthetics\n",
        "\n",
        "- Seaborn has beautiful themes and styles out of the box (darkgrid, whitegrid, etc.).\n",
        "\n",
        "- No need to manually set colors, grids, or fonts like in Matplotlib.\n",
        "\n",
        "3. Integration with Pandas\n",
        "\n",
        "- Seaborn works directly with Pandas DataFrames.\n",
        "\n",
        "- You can specify columns by name (x=\"col1\", y=\"col2\") instead of slicing arrays manually.\n",
        "\n",
        "4. Built-in Statistical Plots\n",
        "\n",
        "- Seaborn provides functions specifically for statistical relationships that would take a lot of work in Matplotlib:\n",
        "\n",
        "- Distributions: histplot(), kdeplot(), distplot() (older)\n",
        "\n",
        "- Relationships: scatterplot(), lineplot(), regplot(), lmplot()\n",
        "\n",
        "- Categorical plots: boxplot(), violinplot(), stripplot(), swarmplot(), barplot()\n",
        "\n",
        "- Matrix plots: heatmap(), clustermap()\n",
        "\n",
        "- Multi-variable plots: pairplot(), jointplot()\n",
        "\n",
        "#### These are especially useful for exploratory data analysis (EDA).\n",
        "\n",
        "5. Automatic Statistical Aggregation\n",
        "\n",
        "- Functions like barplot() and pointplot() don’t just plot raw values — they aggregate (e.g., show mean with confidence intervals).\n",
        "\n",
        "- Saves time compared to manually computing statistics.\n",
        "\n",
        "6. Easy Handling of Categories\n",
        "\n",
        "- hue, row, col, and style let you split plots by category effortlessly.\n",
        "\n",
        "- Great for comparing subgroups in your data.\n",
        "\n",
        "Example:"
      ],
      "metadata": {
        "id": "OoSZZ5QefFL0"
      }
    },
    {
      "cell_type": "code",
      "source": [
        "sns.scatterplot(x=\"total_bill\", y=\"tip\", data=tips, hue=\"smoker\", style=\"time\")\n"
      ],
      "metadata": {
        "colab": {
          "base_uri": "https://localhost:8080/",
          "height": 468
        },
        "id": "f_yOV_vDfcL2",
        "outputId": "8819b3ce-4c69-4838-9a55-f059e994f347"
      },
      "execution_count": null,
      "outputs": [
        {
          "output_type": "execute_result",
          "data": {
            "text/plain": [
              "<Axes: xlabel='total_bill', ylabel='tip'>"
            ]
          },
          "metadata": {},
          "execution_count": 10
        },
        {
          "output_type": "display_data",
          "data": {
            "text/plain": [
              "<Figure size 640x480 with 1 Axes>"
            ],
            "image/png": "[encoded data removed]"
          },
          "metadata": {}
        }
      ]
    },
    {
      "cell_type": "markdown",
      "source": [
        "Summary\n",
        "\n",
        "Seaborn is preferred for statistical visualization because:\n",
        "\n",
        "✅ It’s simpler (high-level, less code).\n",
        "\n",
        "✅ It’s smarter (auto statistical calculations).\n",
        "\n",
        "✅ It’s prettier (great default styles).\n",
        "\n",
        "✅ It’s data-friendly (works directly with Pandas).\n",
        "\n",
        "✅ It’s specialized (many built-in plots for EDA & stats)."
      ],
      "metadata": {
        "id": "CKOCOJmyfgrv"
      }
    },
    {
      "cell_type": "markdown",
      "source": [
        "###<b>Ques_6) What are the differences between NumPy arrays and Python lists?\n",
        "\n",
        "| Feature            | **Python List**                                                                     | **NumPy Array (`ndarray`)**                                                        |\n",
        "| ------------------ | ----------------------------------------------------------------------------------- | ---------------------------------------------------------------------------------- |\n",
        "| **Type of Data**   | Can store **heterogeneous data** (integers, strings, floats, objects in same list). | Stores **homogeneous data** (all elements must be of same type, e.g., all floats). |\n",
        "| **Performance**    | Slower (elements are objects, memory scattered).                                    | Much **faster** (data stored in contiguous memory, implemented in C).              |\n",
        "| **Memory Usage**   | Uses **more memory** (each element stores type info & pointer).                     | Uses **less memory** (only stores raw data of one type).                           |\n",
        "| **Operations**     | Element-wise operations need **loops** (manual).                                    | Supports **vectorized operations** (add, multiply, etc. directly on arrays).       |\n",
        "| **Functionality**  | Basic operations (append, remove, slicing).                                         | Rich **mathematical functions** (linear algebra, stats, FFT, random numbers).      |\n",
        "| **Dimensionality** | 1D only (list of lists can mimic 2D, but clumsy).                                   | Supports **multi-dimensional arrays** (matrices, tensors).                         |\n",
        "| **Indexing**       | Basic slicing (`list[1:3]`).                                                        | Advanced indexing, boolean masks, broadcasting.                                    |\n",
        "| **Integration**    | General-purpose, not optimized for scientific computing.                            | Foundation of **scientific libraries** (Pandas, SciPy, TensorFlow, etc.).          |\n"
      ],
      "metadata": {
        "id": "L8fgrw3tfl6D"
      }
    },
    {
      "cell_type": "markdown",
      "source": [
        "###<b>Ques_7) What is a heatmap, and when should it be used</b>?\n",
        "\n",
        "\n",
        "\n",
        "####What is a Heatmap?\n",
        "\n",
        "- A heatmap is a type of data visualization that represents values in a matrix-like format, where the values are shown using colors instead of numbers.\n",
        "\n",
        "- Rows and columns = variables (or categories).\n",
        "\n",
        "- Color intensity = magnitude of the value.\n",
        "\n",
        " Think of it as a colored table, where patterns and relationships pop out visually.\n",
        "\n",
        " Example in Python (Seaborn Heatmap)"
      ],
      "metadata": {
        "id": "ZUBHiemzgJp9"
      }
    },
    {
      "cell_type": "code",
      "source": [
        "import seaborn as sns\n",
        "import matplotlib.pyplot as plt\n",
        "import numpy as np\n",
        "\n",
        "# Example correlation matrix\n",
        "data = np.random.rand(5,5)\n",
        "sns.heatmap(data, annot=True, cmap=\"coolwarm\")\n",
        "plt.show()\n"
      ],
      "metadata": {
        "colab": {
          "base_uri": "https://localhost:8080/",
          "height": 430
        },
        "id": "qgOMxYxHgyLS",
        "outputId": "b8eccdfb-309a-49d8-ce09-24c325a3725a"
      },
      "execution_count": null,
      "outputs": [
        {
          "output_type": "display_data",
          "data": {
            "text/plain": [
              "<Figure size 640x480 with 2 Axes>"
            ],
            "image/png": "[encoded data removed]"
          },
          "metadata": {}
        }
      ]
    },
    {
      "cell_type": "markdown",
      "source": [
        "###When Should a Heatmap Be Used?\n",
        " 1. Correlation Analysis\n",
        "\n",
        "Common use: show correlation between variables in a dataset.\n",
        "\n",
        "    Example: In a dataset with multiple numerical features, a heatmap of the correlation matrix shows which features are strongly related."
      ],
      "metadata": {
        "id": "zVksoERjg8jf"
      }
    },
    {
      "cell_type": "markdown",
      "source": [
        "2. Matrix Data\n",
        "\n",
        "- Any dataset that naturally forms a grid (rows × columns).\n",
        "\n",
        "- Example: Confusion matrices in machine learning, gene expression data in biology, financial data tables, etc.\n",
        "\n",
        " 3. Highlighting Patterns and Outliers\n",
        "\n",
        "- Heatmaps make trends and anomalies stand out visually (e.g., very high or low values).\n",
        "\n",
        "4. Categorical + Numerical Mix\n",
        "\n",
        "- When you have two categorical variables and want to visualize their relationship via numerical values (like averages, counts).\n",
        "\n",
        "Example:\n",
        "\n",
        "Rows = products\n",
        "\n",
        "Columns = regions\n",
        "\n",
        "Colors = sales numbers\n",
        "\n",
        "#### Advantages of Heatmaps\n",
        "\n",
        "- Intuitive and easy to interpret.\n",
        "\n",
        "- Highlights patterns, correlations, clusters.\n",
        "\n",
        "- Good for high-dimensional data summaries.\n",
        "\n",
        "#### Limitations of Heatmaps\n",
        "\n",
        "- Not good for very large datasets (too many rows/columns → unreadable).\n",
        "\n",
        "- Colors can sometimes be misleading (perception bias).\n",
        "\n",
        "- Doesn’t show causation, only patterns.\n",
        "\n",
        "#### Summary:\n",
        "- A heatmap is a visualization that uses color to represent data values in a 2D grid. It is most useful for:\n",
        "\n",
        "- Correlation matrices\n",
        "\n",
        "- Confusion matrices\n",
        "\n",
        "- Comparisons across categories\n",
        "\n",
        "- Highlighting patterns and anomalies"
      ],
      "metadata": {
        "id": "jOfZabdKhL6W"
      }
    },
    {
      "cell_type": "markdown",
      "source": [
        "###<b>Ques_8) What does the term “vectorized operation” mean in NumPy?</b>\n",
        "\n",
        "\n",
        "####What is a Vectorized Operation?\n",
        "\n",
        "A vectorized operation in NumPy means:\n",
        "\n",
        "- Performing operations on entire arrays (vectors, matrices) at once, without using explicit Python loops.\n",
        "\n",
        "\n",
        "- Instead of looping through each element, NumPy applies the operation to the whole array in compiled C code (behind the scenes).\n",
        "\n",
        "- This makes it much faster and more concise.\n",
        "\n",
        " Example 1: Python List vs NumPy Array"
      ],
      "metadata": {
        "id": "4JWb-CQ6htrN"
      }
    },
    {
      "cell_type": "code",
      "source": [
        "import numpy as np\n",
        "\n",
        "# Python list (loop required)\n",
        "lst = [1, 2, 3, 4]\n",
        "result_list = [x**2 for x in lst]   # loop needed\n",
        "print(result_list)  # [1, 4, 9, 16]\n",
        "\n",
        "# NumPy array (vectorized)\n",
        "arr = np.array([1, 2, 3, 4])\n",
        "result_array = arr**2   # no loop!\n",
        "print(result_array)  # [ 1  4  9 16 ]\n"
      ],
      "metadata": {
        "colab": {
          "base_uri": "https://localhost:8080/"
        },
        "id": "dx5b2IWkiHNg",
        "outputId": "471a76da-b100-4700-9620-6e19cc362f24"
      },
      "execution_count": null,
      "outputs": [
        {
          "output_type": "stream",
          "name": "stdout",
          "text": [
            "[1, 4, 9, 16]\n",
            "[ 1  4  9 16]\n"
          ]
        }
      ]
    },
    {
      "cell_type": "markdown",
      "source": [
        "Example 2: Elementwise Operations"
      ],
      "metadata": {
        "id": "GoGHBUiKiMK_"
      }
    },
    {
      "cell_type": "code",
      "source": [
        "a = np.array([1, 2, 3])\n",
        "b = np.array([10, 20, 30])\n",
        "\n",
        "print(a + b)   # [11 22 33]\n",
        "print(a * b)   # [10 40 90]\n",
        "print(a / b)   # [0.1 0.1 0.1]\n"
      ],
      "metadata": {
        "colab": {
          "base_uri": "https://localhost:8080/"
        },
        "id": "HWdrwR43iNGl",
        "outputId": "b31414fa-6022-46f4-f847-6cadc8c9ad40"
      },
      "execution_count": null,
      "outputs": [
        {
          "output_type": "stream",
          "name": "stdout",
          "text": [
            "[11 22 33]\n",
            "[10 40 90]\n",
            "[0.1 0.1 0.1]\n"
          ]
        }
      ]
    },
    {
      "cell_type": "markdown",
      "source": [
        "###<b>Ques_9) How does Matplotlib differ from Plotly?</b>\n",
        "\n",
        "Both Matplotlib and Plotly are very popular Python visualization libraries, but they serve slightly different purposes. Let’s break it down:\n",
        "\n",
        "1. Nature of the Library\n",
        "\n",
        "- Matplotlib → Static (by default), 2D plotting library.\n",
        "\n",
        "- Plotly → Interactive, web-based plotting library.\n",
        "\n",
        "2. Interactivity\n",
        "\n",
        "- Matplotlib:\n",
        "\n",
        "      Plots are usually static images (PNG, PDF, SVG).\n",
        "\n",
        "      Some interactivity is possible with Jupyter Notebook + %matplotlib notebook or mpl_interactions, but limited.\n",
        "\n",
        "- Plotly:\n",
        "\n",
        "      Highly interactive by default (zoom, hover tooltips, pan, save as PNG).\n",
        "\n",
        "      Built on JavaScript (D3.js) under the hood, making it great for dashboards and web apps.\n",
        "\n",
        " 3. Ease of Use\n",
        "\n",
        "Matplotlib:\n",
        "\n",
        "    More low-level → you have to specify many details manually.\n",
        "\n",
        "    Very flexible but can be verbose (long code for complex plots).\n",
        "\n",
        "Plotly:\n",
        "\n",
        "    Higher-level (especially with Plotly Express).\n",
        "\n",
        "    Shorter code for common interactive plots.\n",
        "\n",
        " 4. Types of Plots\n",
        "\n",
        "Matplotlib:\n",
        "\n",
        "    Excellent for basic charts (line, bar, scatter, histogram, pie, etc.).\n",
        "\n",
        "    supports some advanced plots, but customization can get complicated.\n",
        "\n",
        "Plotly:\n",
        "\n",
        "    Rich interactive charts (3D, maps, bubble charts, choropleths, gauges, Sankey, financial candlesticks, etc.).\n",
        "\n",
        "    Better for modern, web-ready visualizations.\n",
        "\n",
        " 5. Customization\n",
        "\n",
        "Matplotlib:\n",
        "\n",
        "    Extremely customizable (every pixel can be controlled).\n",
        "\n",
        "    Steeper learning curve.\n",
        "\n",
        "Plotly:\n",
        "\n",
        "    Good customization, but some advanced tweaks require digging into layout dictionaries.\n",
        "\n",
        "6. Performance\n",
        "\n",
        "Matplotlib:\n",
        "\n",
        "    Handles large datasets reasonably well for static plots.\n",
        "\n",
        "    Not optimized for interactive rendering of millions of points.\n",
        "\n",
        "Plotly:\n",
        "\n",
        "    Interactivity is great, but rendering very large datasets (e.g., millions of points) can be slow in the browser.\n",
        "\n",
        " 7. Use Cases\n",
        "\n",
        "Matplotlib:\n",
        "\n",
        "- Academic papers, reports, research plots.\n",
        "\n",
        "- When you need static, publication-quality figures.\n",
        "\n",
        "- Foundation library (Seaborn, Pandas plotting, etc. are built on it).\n",
        "\n",
        "Plotly:\n",
        "\n",
        "- Dashboards, presentations, business analytics.\n",
        "\n",
        "- When you need interactive exploration of data.\n",
        "\n",
        "- Great for web integration (works with Dash framework).\n",
        "\n",
        "#### Quick Example Comparison\n",
        "Matplotlib:"
      ],
      "metadata": {
        "id": "i5I0ZD_NiR4T"
      }
    },
    {
      "cell_type": "code",
      "source": [
        "import matplotlib.pyplot as plt\n",
        "\n",
        "x = [1, 2, 3, 4]\n",
        "y = [10, 20, 25, 30]\n",
        "\n",
        "plt.plot(x, y, marker=\"o\")\n",
        "plt.title(\"Matplotlib Line Plot\")\n",
        "plt.xlabel(\"X-axis\")\n",
        "plt.ylabel(\"Y-axis\")\n",
        "plt.show()\n"
      ],
      "metadata": {
        "colab": {
          "base_uri": "https://localhost:8080/",
          "height": 472
        },
        "id": "1pg9FktylxvJ",
        "outputId": "8fb1aeb8-acd3-4eab-d396-3676cef97cdb"
      },
      "execution_count": 15,
      "outputs": [
        {
          "output_type": "display_data",
          "data": {
            "text/plain": [
              "<Figure size 640x480 with 1 Axes>"
            ],
            "image/png": "[encoded data removed]"
          },
          "metadata": {}
        }
      ]
    },
    {
      "cell_type": "markdown",
      "source": [
        "Plotly:"
      ],
      "metadata": {
        "id": "iEDw20Apl57o"
      }
    },
    {
      "cell_type": "code",
      "source": [
        "import plotly.express as px\n",
        "\n",
        "x = [1, 2, 3, 4]\n",
        "y = [10, 20, 25, 30]\n",
        "\n",
        "fig = px.line(x=x, y=y, markers=True, title=\"Plotly Line Plot\")\n",
        "fig.show()\n"
      ],
      "metadata": {
        "colab": {
          "base_uri": "https://localhost:8080/",
          "height": 542
        },
        "id": "_n2QkZx3l3RK",
        "outputId": "e31f108c-84a6-4aca-8bc3-cfbc15047bc4"
      },
      "execution_count": 16,
      "outputs": [
        {
          "output_type": "display_data",
          "data": {
            "text/html": [
              "<html>\n",
              "<head><meta charset=\"utf-8\" /></head>\n",
              "<body>\n",
              "    <div>            <script src=\"https://cdnjs.cloudflare.com/ajax/libs/mathjax/2.7.5/MathJax.js?config=TeX-AMS-MML_SVG\"></script><script type=\"text/javascript\">if (window.MathJax && window.MathJax.Hub && window.MathJax.Hub.Config) {window.MathJax.Hub.Config({SVG: {font: \"STIX-Web\"}});}</script>                <script type=\"text/javascript\">window.PlotlyConfig = {MathJaxConfig: 'local'};</script>\n",
              "        <script charset=\"utf-8\" src=\"https://cdn.plot.ly/plotly-2.35.2.min.js\"></script>                <div id=\"a4937738-9b1f-4b50-b665-59e79c450890\" class=\"plotly-graph-div\" style=\"height:525px; width:100%;\"></div>            <script type=\"text/javascript\">                                    window.PLOTLYENV=window.PLOTLYENV || {};                                    if (document.getElementById(\"a4937738-9b1f-4b50-b665-59e79c450890\")) {                    Plotly.newPlot(                        \"a4937738-9b1f-4b50-b665-59e79c450890\",                        [{\"hovertemplate\":\"x=%{x}\\u003cbr\\u003ey=%{y}\\u003cextra\\u003e\\u003c\\u002fextra\\u003e\",\"legendgroup\":\"\",\"line\":{\"color\":\"#636efa\",\"dash\":\"solid\"},\"marker\":{\"symbol\":\"circle\"},\"mode\":\"lines+markers\",\"name\":\"\",\"orientation\":\"v\",\"showlegend\":false,\"x\":[1,2,3,4],\"xaxis\":\"x\",\"y\":[10,20,25,30],\"yaxis\":\"y\",\"type\":\"scatter\"}],                        {\"template\":{\"data\":{\"histogram2dcontour\":[{\"type\":\"histogram2dcontour\",\"colorbar\":{\"outlinewidth\":0,\"ticks\":\"\"},\"colorscale\":[[0.0,\"#0d0887\"],[0.1111111111111111,\"#46039f\"],[0.2222222222222222,\"#7201a8\"],[0.3333333333333333,\"#9c179e\"],[0.4444444444444444,\"#bd3786\"],[0.5555555555555556,\"#d8576b\"],[0.6666666666666666,\"#ed7953\"],[0.7777777777777778,\"#fb9f3a\"],[0.8888888888888888,\"#fdca26\"],[1.0,\"#f0f921\"]]}],\"choropleth\":[{\"type\":\"choropleth\",\"colorbar\":{\"outlinewidth\":0,\"ticks\":\"\"}}],\"histogram2d\":[{\"type\":\"histogram2d\",\"colorbar\":{\"outlinewidth\":0,\"ticks\":\"\"},\"colorscale\":[[0.0,\"#0d0887\"],[0.1111111111111111,\"#46039f\"],[0.2222222222222222,\"#7201a8\"],[0.3333333333333333,\"#9c179e\"],[0.4444444444444444,\"#bd3786\"],[0.5555555555555556,\"#d8576b\"],[0.6666666666666666,\"#ed7953\"],[0.7777777777777778,\"#fb9f3a\"],[0.8888888888888888,\"#fdca26\"],[1.0,\"#f0f921\"]]}],\"heatmap\":[{\"type\":\"heatmap\",\"colorbar\":{\"outlinewidth\":0,\"ticks\":\"\"},\"colorscale\":[[0.0,\"#0d0887\"],[0.1111111111111111,\"#46039f\"],[0.2222222222222222,\"#7201a8\"],[0.3333333333333333,\"#9c179e\"],[0.4444444444444444,\"#bd3786\"],[0.5555555555555556,\"#d8576b\"],[0.6666666666666666,\"#ed7953\"],[0.7777777777777778,\"#fb9f3a\"],[0.8888888888888888,\"#fdca26\"],[1.0,\"#f0f921\"]]}],\"heatmapgl\":[{\"type\":\"heatmapgl\",\"colorbar\":{\"outlinewidth\":0,\"ticks\":\"\"},\"colorscale\":[[0.0,\"#0d0887\"],[0.1111111111111111,\"#46039f\"],[0.2222222222222222,\"#7201a8\"],[0.3333333333333333,\"#9c179e\"],[0.4444444444444444,\"#bd3786\"],[0.5555555555555556,\"#d8576b\"],[0.6666666666666666,\"#ed7953\"],[0.7777777777777778,\"#fb9f3a\"],[0.8888888888888888,\"#fdca26\"],[1.0,\"#f0f921\"]]}],\"contourcarpet\":[{\"type\":\"contourcarpet\",\"colorbar\":{\"outlinewidth\":0,\"ticks\":\"\"}}],\"contour\":[{\"type\":\"contour\",\"colorbar\":{\"outlinewidth\":0,\"ticks\":\"\"},\"colorscale\":[[0.0,\"#0d0887\"],[0.1111111111111111,\"#46039f\"],[0.2222222222222222,\"#7201a8\"],[0.3333333333333333,\"#9c179e\"],[0.4444444444444444,\"#bd3786\"],[0.5555555555555556,\"#d8576b\"],[0.6666666666666666,\"#ed7953\"],[0.7777777777777778,\"#fb9f3a\"],[0.8888888888888888,\"#fdca26\"],[1.0,\"#f0f921\"]]}],\"surface\":[{\"type\":\"surface\",\"colorbar\":{\"outlinewidth\":0,\"ticks\":\"\"},\"colorscale\":[[0.0,\"#0d0887\"],[0.1111111111111111,\"#46039f\"],[0.2222222222222222,\"#7201a8\"],[0.3333333333333333,\"#9c179e\"],[0.4444444444444444,\"#bd3786\"],[0.5555555555555556,\"#d8576b\"],[0.6666666666666666,\"#ed7953\"],[0.7777777777777778,\"#fb9f3a\"],[0.8888888888888888,\"#fdca26\"],[1.0,\"#f0f921\"]]}],\"mesh3d\":[{\"type\":\"mesh3d\",\"colorbar\":{\"outlinewidth\":0,\"ticks\":\"\"}}],\"scatter\":[{\"fillpattern\":{\"fillmode\":\"overlay\",\"size\":10,\"solidity\":0.2},\"type\":\"scatter\"}],\"parcoords\":[{\"type\":\"parcoords\",\"line\":{\"colorbar\":{\"outlinewidth\":0,\"ticks\":\"\"}}}],\"scatterpolargl\":[{\"type\":\"scatterpolargl\",\"marker\":{\"colorbar\":{\"outlinewidth\":0,\"ticks\":\"\"}}}],\"bar\":[{\"error_x\":{\"color\":\"#2a3f5f\"},\"error_y\":{\"color\":\"#2a3f5f\"},\"marker\":{\"line\":{\"color\":\"#E5ECF6\",\"width\":0.5},\"pattern\":{\"fillmode\":\"overlay\",\"size\":10,\"solidity\":0.2}},\"type\":\"bar\"}],\"scattergeo\":[{\"type\":\"scattergeo\",\"marker\":{\"colorbar\":{\"outlinewidth\":0,\"ticks\":\"\"}}}],\"scatterpolar\":[{\"type\":\"scatterpolar\",\"marker\":{\"colorbar\":{\"outlinewidth\":0,\"ticks\":\"\"}}}],\"histogram\":[{\"marker\":{\"pattern\":{\"fillmode\":\"overlay\",\"size\":10,\"solidity\":0.2}},\"type\":\"histogram\"}],\"scattergl\":[{\"type\":\"scattergl\",\"marker\":{\"colorbar\":{\"outlinewidth\":0,\"ticks\":\"\"}}}],\"scatter3d\":[{\"type\":\"scatter3d\",\"line\":{\"colorbar\":{\"outlinewidth\":0,\"ticks\":\"\"}},\"marker\":{\"colorbar\":{\"outlinewidth\":0,\"ticks\":\"\"}}}],\"scattermapbox\":[{\"type\":\"scattermapbox\",\"marker\":{\"colorbar\":{\"outlinewidth\":0,\"ticks\":\"\"}}}],\"scatterternary\":[{\"type\":\"scatterternary\",\"marker\":{\"colorbar\":{\"outlinewidth\":0,\"ticks\":\"\"}}}],\"scattercarpet\":[{\"type\":\"scattercarpet\",\"marker\":{\"colorbar\":{\"outlinewidth\":0,\"ticks\":\"\"}}}],\"carpet\":[{\"aaxis\":{\"endlinecolor\":\"#2a3f5f\",\"gridcolor\":\"white\",\"linecolor\":\"white\",\"minorgridcolor\":\"white\",\"startlinecolor\":\"#2a3f5f\"},\"baxis\":{\"endlinecolor\":\"#2a3f5f\",\"gridcolor\":\"white\",\"linecolor\":\"white\",\"minorgridcolor\":\"white\",\"startlinecolor\":\"#2a3f5f\"},\"type\":\"carpet\"}],\"table\":[{\"cells\":{\"fill\":{\"color\":\"#EBF0F8\"},\"line\":{\"color\":\"white\"}},\"header\":{\"fill\":{\"color\":\"#C8D4E3\"},\"line\":{\"color\":\"white\"}},\"type\":\"table\"}],\"barpolar\":[{\"marker\":{\"line\":{\"color\":\"#E5ECF6\",\"width\":0.5},\"pattern\":{\"fillmode\":\"overlay\",\"size\":10,\"solidity\":0.2}},\"type\":\"barpolar\"}],\"pie\":[{\"automargin\":true,\"type\":\"pie\"}]},\"layout\":{\"autotypenumbers\":\"strict\",\"colorway\":[\"#636efa\",\"#EF553B\",\"#00cc96\",\"#ab63fa\",\"#FFA15A\",\"#19d3f3\",\"#FF6692\",\"#B6E880\",\"#FF97FF\",\"#FECB52\"],\"font\":{\"color\":\"#2a3f5f\"},\"hovermode\":\"closest\",\"hoverlabel\":{\"align\":\"left\"},\"paper_bgcolor\":\"white\",\"plot_bgcolor\":\"#E5ECF6\",\"polar\":{\"bgcolor\":\"#E5ECF6\",\"angularaxis\":{\"gridcolor\":\"white\",\"linecolor\":\"white\",\"ticks\":\"\"},\"radialaxis\":{\"gridcolor\":\"white\",\"linecolor\":\"white\",\"ticks\":\"\"}},\"ternary\":{\"bgcolor\":\"#E5ECF6\",\"aaxis\":{\"gridcolor\":\"white\",\"linecolor\":\"white\",\"ticks\":\"\"},\"baxis\":{\"gridcolor\":\"white\",\"linecolor\":\"white\",\"ticks\":\"\"},\"caxis\":{\"gridcolor\":\"white\",\"linecolor\":\"white\",\"ticks\":\"\"}},\"coloraxis\":{\"colorbar\":{\"outlinewidth\":0,\"ticks\":\"\"}},\"colorscale\":{\"sequential\":[[0.0,\"#0d0887\"],[0.1111111111111111,\"#46039f\"],[0.2222222222222222,\"#7201a8\"],[0.3333333333333333,\"#9c179e\"],[0.4444444444444444,\"#bd3786\"],[0.5555555555555556,\"#d8576b\"],[0.6666666666666666,\"#ed7953\"],[0.7777777777777778,\"#fb9f3a\"],[0.8888888888888888,\"#fdca26\"],[1.0,\"#f0f921\"]],\"sequentialminus\":[[0.0,\"#0d0887\"],[0.1111111111111111,\"#46039f\"],[0.2222222222222222,\"#7201a8\"],[0.3333333333333333,\"#9c179e\"],[0.4444444444444444,\"#bd3786\"],[0.5555555555555556,\"#d8576b\"],[0.6666666666666666,\"#ed7953\"],[0.7777777777777778,\"#fb9f3a\"],[0.8888888888888888,\"#fdca26\"],[1.0,\"#f0f921\"]],\"diverging\":[[0,\"#8e0152\"],[0.1,\"#c51b7d\"],[0.2,\"#de77ae\"],[0.3,\"#f1b6da\"],[0.4,\"#fde0ef\"],[0.5,\"#f7f7f7\"],[0.6,\"#e6f5d0\"],[0.7,\"#b8e186\"],[0.8,\"#7fbc41\"],[0.9,\"#4d9221\"],[1,\"#276419\"]]},\"xaxis\":{\"gridcolor\":\"white\",\"linecolor\":\"white\",\"ticks\":\"\",\"title\":{\"standoff\":15},\"zerolinecolor\":\"white\",\"automargin\":true,\"zerolinewidth\":2},\"yaxis\":{\"gridcolor\":\"white\",\"linecolor\":\"white\",\"ticks\":\"\",\"title\":{\"standoff\":15},\"zerolinecolor\":\"white\",\"automargin\":true,\"zerolinewidth\":2},\"scene\":{\"xaxis\":{\"backgroundcolor\":\"#E5ECF6\",\"gridcolor\":\"white\",\"linecolor\":\"white\",\"showbackground\":true,\"ticks\":\"\",\"zerolinecolor\":\"white\",\"gridwidth\":2},\"yaxis\":{\"backgroundcolor\":\"#E5ECF6\",\"gridcolor\":\"white\",\"linecolor\":\"white\",\"showbackground\":true,\"ticks\":\"\",\"zerolinecolor\":\"white\",\"gridwidth\":2},\"zaxis\":{\"backgroundcolor\":\"#E5ECF6\",\"gridcolor\":\"white\",\"linecolor\":\"white\",\"showbackground\":true,\"ticks\":\"\",\"zerolinecolor\":\"white\",\"gridwidth\":2}},\"shapedefaults\":{\"line\":{\"color\":\"#2a3f5f\"}},\"annotationdefaults\":{\"arrowcolor\":\"#2a3f5f\",\"arrowhead\":0,\"arrowwidth\":1},\"geo\":{\"bgcolor\":\"white\",\"landcolor\":\"#E5ECF6\",\"subunitcolor\":\"white\",\"showland\":true,\"showlakes\":true,\"lakecolor\":\"white\"},\"title\":{\"x\":0.05},\"mapbox\":{\"style\":\"light\"}}},\"xaxis\":{\"anchor\":\"y\",\"domain\":[0.0,1.0],\"title\":{\"text\":\"x\"}},\"yaxis\":{\"anchor\":\"x\",\"domain\":[0.0,1.0],\"title\":{\"text\":\"y\"}},\"legend\":{\"tracegroupgap\":0},\"title\":{\"text\":\"Plotly Line Plot\"}},                        {\"responsive\": true}                    ).then(function(){\n",
              "                            \n",
              "var gd = document.getElementById('a4937738-9b1f-4b50-b665-59e79c450890');\n",
              "var x = new MutationObserver(function (mutations, observer) {{\n",
              "        var display = window.getComputedStyle(gd).display;\n",
              "        if (!display || display === 'none') {{\n",
              "            console.log([gd, 'removed!']);\n",
              "            Plotly.purge(gd);\n",
              "            observer.disconnect();\n",
              "        }}\n",
              "}});\n",
              "\n",
              "// Listen for the removal of the full notebook cells\n",
              "var notebookContainer = gd.closest('#notebook-container');\n",
              "if (notebookContainer) {{\n",
              "    x.observe(notebookContainer, {childList: true});\n",
              "}}\n",
              "\n",
              "// Listen for the clearing of the current output cell\n",
              "var outputEl = gd.closest('.output');\n",
              "if (outputEl) {{\n",
              "    x.observe(outputEl, {childList: true});\n",
              "}}\n",
              "\n",
              "                        })                };                            </script>        </div>\n",
              "</body>\n",
              "</html>"
            ]
          },
          "metadata": {}
        }
      ]
    },
    {
      "cell_type": "markdown",
      "source": [
        "###<b>Ques_10) What is the significance of hierarchical indexing in Pandas?</b>\n",
        "\n",
        "What is Hierarchical Indexing?\n",
        "\n",
        "Normally, a Pandas Series or DataFrame has a single level of index (row labels).\n",
        "\n",
        "Hierarchical indexing allows multiple levels of index (like nested keys).\n",
        "\n",
        "This creates a MultiIndex object, which lets you work with data in higher dimensions (2D, 3D, …) while still keeping it inside a 2D DataFrame.\n",
        "\n",
        "-  Think of it as having row/column indices with more than one \"layer\".\n",
        "\n",
        "### Why is it Significant? (Key Advantages)\n",
        "1. Represent Higher-Dimensional Data\n",
        "\n",
        "You can store and analyze 3D or higher-dimensional data in a 2D table.\n",
        "Example: Sales data across Region → Country → Year.\n",
        "\n",
        " 2. Easier Grouping and Aggregation\n",
        "\n",
        "MultiIndex works beautifully with groupby() results.\n",
        "\n",
        "After grouping, Pandas automatically creates a hierarchical index to store aggregated results.\n",
        "\n",
        " 3. Complex Data Selection\n",
        "\n",
        "Lets you slice and query data more intuitively.\n",
        "\n",
        "Example: Select all rows for a specific country within a region.\n",
        "\n",
        " 4. Pivoting and Reshaping\n",
        "\n",
        "Essential in reshaping methods like stack(), unstack(), and pivot_table().\n",
        "\n",
        "Great for tidy data representation.\n",
        "\n",
        "#### Example of Hierarchical Indexing\n"
      ],
      "metadata": {
        "id": "ZwsDzUwPmJqR"
      }
    },
    {
      "cell_type": "code",
      "source": [
        "import pandas as pd\n",
        "\n",
        "# Example sales data\n",
        "data = {\n",
        "    \"sales\": [100, 150, 200, 250, 300, 350],\n",
        "}\n",
        "index = pd.MultiIndex.from_tuples(\n",
        "    [\n",
        "        (\"North America\", \"USA\"),\n",
        "        (\"North America\", \"Canada\"),\n",
        "        (\"Europe\", \"Germany\"),\n",
        "        (\"Europe\", \"France\"),\n",
        "        (\"Asia\", \"India\"),\n",
        "        (\"Asia\", \"China\"),\n",
        "    ],\n",
        "    names=[\"Region\", \"Country\"]\n",
        ")\n",
        "\n",
        "df = pd.DataFrame(data, index=index)\n",
        "print(df)\n"
      ],
      "metadata": {
        "colab": {
          "base_uri": "https://localhost:8080/"
        },
        "id": "adoOZRW4mog5",
        "outputId": "98c388d8-b9b6-4ac2-dda4-0305fab6a498"
      },
      "execution_count": 17,
      "outputs": [
        {
          "output_type": "stream",
          "name": "stdout",
          "text": [
            "                       sales\n",
            "Region        Country       \n",
            "North America USA        100\n",
            "              Canada     150\n",
            "Europe        Germany    200\n",
            "              France     250\n",
            "Asia          India      300\n",
            "              China      350\n"
          ]
        }
      ]
    },
    {
      "cell_type": "markdown",
      "source": [
        "Selection with MultiIndex"
      ],
      "metadata": {
        "id": "ExVXFObOmvpS"
      }
    },
    {
      "cell_type": "code",
      "source": [
        "# Select all Europe data\n",
        "print(df.loc[\"Europe\"])\n",
        "\n",
        "# Select sales for Europe → Germany\n",
        "print(df.loc[(\"Europe\", \"Germany\")])\n"
      ],
      "metadata": {
        "colab": {
          "base_uri": "https://localhost:8080/"
        },
        "id": "LGMJxrKQmwyN",
        "outputId": "d0630194-167f-4afa-d383-836f49396dfe"
      },
      "execution_count": 18,
      "outputs": [
        {
          "output_type": "stream",
          "name": "stdout",
          "text": [
            "         sales\n",
            "Country       \n",
            "Germany    200\n",
            "France     250\n",
            "sales    200\n",
            "Name: (Europe, Germany), dtype: int64\n"
          ]
        }
      ]
    },
    {
      "cell_type": "markdown",
      "source": [
        "GroupBy + MultiIndex Example"
      ],
      "metadata": {
        "id": "LcEm4ag7m6zz"
      }
    },
    {
      "cell_type": "code",
      "source": [
        "df2 = df.groupby([\"Region\"]).sum()\n",
        "print(df2)\n"
      ],
      "metadata": {
        "colab": {
          "base_uri": "https://localhost:8080/"
        },
        "id": "Dsakgjz8m7zS",
        "outputId": "6c7732a2-7594-44a6-991c-970ee8a20b08"
      },
      "execution_count": 19,
      "outputs": [
        {
          "output_type": "stream",
          "name": "stdout",
          "text": [
            "               sales\n",
            "Region              \n",
            "Asia             650\n",
            "Europe           450\n",
            "North America    250\n"
          ]
        }
      ]
    },
    {
      "cell_type": "markdown",
      "source": [
        "Summary\n",
        "\n",
        "- Hierarchical Indexing (MultiIndex) in Pandas is significant because it:\n",
        "\n",
        "- Lets you handle multi-dimensional data in 2D form.\n",
        "\n",
        "- Makes grouping, aggregation, and reshaping very powerful.\n",
        "\n",
        "- Provides flexible and intuitive data selection.\n",
        "\n",
        "- Supports complex real-world data (e.g., country inside region, year inside date)."
      ],
      "metadata": {
        "id": "h1pfTdOnnC_x"
      }
    },
    {
      "cell_type": "markdown",
      "source": [
        "<h3>Q11. What is the role of Seaborn’s pairplot() function?</h3>\n",
        "<p>\n",
        "The <b>pairplot()</b> function in Seaborn is used to visualize pairwise relationships in a dataset. It automatically plots:\n",
        "<ul>\n",
        "<li>Scatter plots between each pair of numerical variables.</li>\n",
        "<li>Histograms (or Kernel Density Estimation plots) along the diagonal, showing the distribution of each variable.</li>\n",
        "</ul>\n",
        "This makes it an excellent tool for <b>exploratory data analysis</b> because:\n",
        "<ul>\n",
        "<li>It helps detect linear or non-linear relationships between variables.</li>\n",
        "<li>It makes patterns, clusters, or outliers visible.</li>\n",
        "<li>It supports coloring (hue) to distinguish categories within the data.</li>\n",
        "</ul>\n",
        "</p>\n",
        "\n",
        "<h3>Q12. What is the purpose of the describe() function in Pandas?</h3>\n",
        "<p>\n",
        "The <b>describe()</b> function in Pandas generates summary statistics of data. It is useful for quickly understanding the distribution and spread of data.\n",
        "It works differently depending on the data type:\n",
        "<ul>\n",
        "<li><b>Numerical data</b>: count, mean, standard deviation, min, max, and quartiles (25%, 50%, 75%).</li>\n",
        "<li><b>Categorical data</b>: count, number of unique values, most frequent value (top), and frequency of the top value.</li>\n",
        "</ul>\n",
        "This makes <code>describe()</code> a crucial step in <b>exploratory data analysis</b>, giving insight into central tendencies, spread, and outliers.\n",
        "</p>\n",
        "\n",
        "<h3>Q13. Why is handling missing data important in Pandas?</h3>\n",
        "<p>\n",
        "Handling missing data is essential because incomplete datasets can cause:\n",
        "<ul>\n",
        "<li><b>Bias in analysis</b>: Missing values can distort averages and correlations.</li>\n",
        "<li><b>Errors in algorithms</b>: Many machine learning models cannot handle NaN values.</li>\n",
        "<li><b>Inaccurate decisions</b>: Misinterpreted data can lead to wrong business or research conclusions.</li>\n",
        "</ul>\n",
        "Pandas provides tools such as:\n",
        "<ul>\n",
        "<li><code>dropna()</code>: remove missing data.</li>\n",
        "<li><code>fillna()</code>: replace missing values with mean, median, or custom values.</li>\n",
        "<li>Interpolation methods for estimating missing values.</li>\n",
        "</ul>\n",
        "</p>\n",
        "\n",
        "<h3>Q14. What are the benefits of using Plotly for data visualization?</h3>\n",
        "<p>\n",
        "Plotly is a modern visualization library that emphasizes <b>interactivity and presentation</b>. Its benefits include:\n",
        "<ul>\n",
        "<li><b>Interactivity by default</b>: zoom, pan, hover, and tooltips are built in.</li>\n",
        "<li><b>Wide range of charts</b>: Supports basic plots, 3D plots, maps, financial charts, Sankey diagrams, and scientific visualizations.</li>\n",
        "<li><b>Web integration</b>: Easily embed visualizations in websites and dashboards using the Dash framework.</li>\n",
        "<li><b>Plotly Express</b>: Provides a concise syntax for quick visualizations with minimal code.</li>\n",
        "<li><b>Export options</b>: Save plots as static images, HTML files, or interactive notebooks.</li>\n",
        "</ul>\n",
        "This makes Plotly especially valuable for <b>business analytics, dashboards, and interactive reporting</b>.\n",
        "</p>\n",
        "\n",
        "<h3>Q15. How does NumPy handle multidimensional arrays?</h3>\n",
        "<p>\n",
        "NumPy uses the <b>ndarray</b> object to handle multidimensional arrays (1D, 2D, 3D, or higher). Its features include:\n",
        "<ul>\n",
        "<li><b>Shape</b>: Defines the dimensions of the array, e.g., (3, 4) means 3 rows and 4 columns.</li>\n",
        "<li><b>ndim</b>: Number of dimensions in the array.</li>\n",
        "<li><b>dtype</b>: Ensures all elements are of the same type (float, int, etc.) for efficiency.</li>\n",
        "<li><b>Vectorized operations</b>: Mathematical operations apply to the entire array without explicit loops.</li>\n",
        "<li><b>Broadcasting</b>: Allows operations between arrays of different shapes.</li>\n",
        "</ul>\n",
        "This design makes NumPy arrays far more efficient than nested Python lists for numerical computing.\n",
        "</p>\n",
        "\n",
        "<h3>Q16. What is the role of Bokeh in data visualization?</h3>\n",
        "<p>\n",
        "Bokeh is a Python library for creating <b>interactive, web-ready visualizations</b>. Key features include:\n",
        "<ul>\n",
        "<li>Generates JavaScript-powered plots directly from Python, making them usable in browsers.</li>\n",
        "<li>Supports interactive features l\n"
      ],
      "metadata": {
        "id": "4J6kgz_gn8lU"
      }
    },
    {
      "cell_type": "markdown",
      "source": [
        "# Practical_Ques:"
      ],
      "metadata": {
        "id": "Mu63W4ZFo27S"
      }
    },
    {
      "cell_type": "code",
      "source": [
        "# Q1. Create a 2D NumPy array and calculate the sum of each row\n",
        "import numpy as np\n",
        "\n",
        "arr = np.array([[1, 2, 3],\n",
        "                [4, 5, 6],\n",
        "                [7, 8, 9]])\n",
        "print(\"Array:\\n\", arr)\n",
        "\n",
        "row_sum = arr.sum(axis=1)\n",
        "print(\"Row-wise sum:\", row_sum)\n"
      ],
      "metadata": {
        "colab": {
          "base_uri": "https://localhost:8080/"
        },
        "id": "9U5aoKAOo1Zb",
        "outputId": "c0bacccf-cad3-4774-8169-426a2c822a1e"
      },
      "execution_count": 20,
      "outputs": [
        {
          "output_type": "stream",
          "name": "stdout",
          "text": [
            "Array:\n",
            " [[1 2 3]\n",
            " [4 5 6]\n",
            " [7 8 9]]\n",
            "Row-wise sum: [ 6 15 24]\n"
          ]
        }
      ]
    },
    {
      "cell_type": "code",
      "source": [
        "# Q2. Write a Pandas script to find the mean of a specific column in a DataFrame\n",
        "import pandas as pd\n",
        "\n",
        "data = {'Name': ['A', 'B', 'C'],\n",
        "        'Marks': [85, 90, 78]}\n",
        "df = pd.DataFrame(data)\n",
        "\n",
        "print(\"Mean of Marks column:\", df['Marks'].mean())\n"
      ],
      "metadata": {
        "colab": {
          "base_uri": "https://localhost:8080/"
        },
        "id": "c12BaaYlo-6A",
        "outputId": "72fba473-6935-4e32-96a0-5c83d4917036"
      },
      "execution_count": 21,
      "outputs": [
        {
          "output_type": "stream",
          "name": "stdout",
          "text": [
            "Mean of Marks column: 84.33333333333333\n"
          ]
        }
      ]
    },
    {
      "cell_type": "code",
      "source": [
        "# Q3. Create a scatter plot using Matplotlib\n",
        "import matplotlib.pyplot as plt\n",
        "\n",
        "x = [5, 7, 8, 7, 6, 9]\n",
        "y = [99, 86, 87, 88, 100, 86]\n",
        "\n",
        "plt.scatter(x, y)\n",
        "plt.title(\"Scatter Plot Example\")\n",
        "plt.xlabel(\"X-axis\")\n",
        "plt.ylabel(\"Y-axis\")\n",
        "plt.show()\n"
      ],
      "metadata": {
        "colab": {
          "base_uri": "https://localhost:8080/",
          "height": 472
        },
        "id": "Y62l-NGPpBlJ",
        "outputId": "dc0d5daa-7c09-4fa3-9cf2-f03327e8f9ae"
      },
      "execution_count": 23,
      "outputs": [
        {
          "output_type": "display_data",
          "data": {
            "text/plain": [
              "<Figure size 640x480 with 1 Axes>"
            ],
            "image/png": "[encoded data removed]"
          },
          "metadata": {}
        }
      ]
    },
    {
      "cell_type": "code",
      "source": [
        "# Q4. Calculate correlation matrix using Seaborn and visualize with heatmap\n",
        "import seaborn as sns\n",
        "import pandas as pd\n",
        "\n",
        "df = pd.DataFrame({\n",
        "    \"A\": [1, 2, 3, 4, 5],\n",
        "    \"B\": [5, 4, 3, 2, 1],\n",
        "    \"C\": [2, 3, 4, 5, 6]\n",
        "})\n",
        "\n",
        "corr = df.corr()\n",
        "sns.heatmap(corr, annot=True, cmap=\"coolwarm\")\n",
        "plt.show()\n"
      ],
      "metadata": {
        "colab": {
          "base_uri": "https://localhost:8080/",
          "height": 435
        },
        "id": "E_fGzIDNpDgO",
        "outputId": "a1958eb0-a6a9-4c21-dfa4-79686047b207"
      },
      "execution_count": 22,
      "outputs": [
        {
          "output_type": "display_data",
          "data": {
            "text/plain": [
              "<Figure size 640x480 with 2 Axes>"
            ],
            "image/png": "[encoded data removed]"
          },
          "metadata": {}
        }
      ]
    },
    {
      "cell_type": "code",
      "source": [
        "# Q5. Generate a bar plot using Plotly\n",
        "import plotly.express as px\n",
        "\n",
        "data = {\"Fruits\": [\"Apple\", \"Banana\", \"Orange\"],\n",
        "        \"Quantity\": [10, 15, 7]}\n",
        "fig = px.bar(data, x=\"Fruits\", y=\"Quantity\", title=\"Fruit Bar Plot\")\n",
        "fig.show()\n"
      ],
      "metadata": {
        "colab": {
          "base_uri": "https://localhost:8080/",
          "height": 542
        },
        "id": "Cl90bUqhpKb8",
        "outputId": "2e184077-5ca5-4b07-f89a-66ed68e75b27"
      },
      "execution_count": 24,
      "outputs": [
        {
          "output_type": "display_data",
          "data": {
            "text/html": [
              "<html>\n",
              "<head><meta charset=\"utf-8\" /></head>\n",
              "<body>\n",
              "    <div>            <script src=\"https://cdnjs.cloudflare.com/ajax/libs/mathjax/2.7.5/MathJax.js?config=TeX-AMS-MML_SVG\"></script><script type=\"text/javascript\">if (window.MathJax && window.MathJax.Hub && window.MathJax.Hub.Config) {window.MathJax.Hub.Config({SVG: {font: \"STIX-Web\"}});}</script>                <script type=\"text/javascript\">window.PlotlyConfig = {MathJaxConfig: 'local'};</script>\n",
              "        <script charset=\"utf-8\" src=\"https://cdn.plot.ly/plotly-2.35.2.min.js\"></script>                <div id=\"8c3f4247-9000-45b7-a13a-84e534a02335\" class=\"plotly-graph-div\" style=\"height:525px; width:100%;\"></div>            <script type=\"text/javascript\">                                    window.PLOTLYENV=window.PLOTLYENV || {};                                    if (document.getElementById(\"8c3f4247-9000-45b7-a13a-84e534a02335\")) {                    Plotly.newPlot(                        \"8c3f4247-9000-45b7-a13a-84e534a02335\",                        [{\"alignmentgroup\":\"True\",\"hovertemplate\":\"Fruits=%{x}\\u003cbr\\u003eQuantity=%{y}\\u003cextra\\u003e\\u003c\\u002fextra\\u003e\",\"legendgroup\":\"\",\"marker\":{\"color\":\"#636efa\",\"pattern\":{\"shape\":\"\"}},\"name\":\"\",\"offsetgroup\":\"\",\"orientation\":\"v\",\"showlegend\":false,\"textposition\":\"auto\",\"x\":[\"Apple\",\"Banana\",\"Orange\"],\"xaxis\":\"x\",\"y\":[10,15,7],\"yaxis\":\"y\",\"type\":\"bar\"}],                        {\"template\":{\"data\":{\"histogram2dcontour\":[{\"type\":\"histogram2dcontour\",\"colorbar\":{\"outlinewidth\":0,\"ticks\":\"\"},\"colorscale\":[[0.0,\"#0d0887\"],[0.1111111111111111,\"#46039f\"],[0.2222222222222222,\"#7201a8\"],[0.3333333333333333,\"#9c179e\"],[0.4444444444444444,\"#bd3786\"],[0.5555555555555556,\"#d8576b\"],[0.6666666666666666,\"#ed7953\"],[0.7777777777777778,\"#fb9f3a\"],[0.8888888888888888,\"#fdca26\"],[1.0,\"#f0f921\"]]}],\"choropleth\":[{\"type\":\"choropleth\",\"colorbar\":{\"outlinewidth\":0,\"ticks\":\"\"}}],\"histogram2d\":[{\"type\":\"histogram2d\",\"colorbar\":{\"outlinewidth\":0,\"ticks\":\"\"},\"colorscale\":[[0.0,\"#0d0887\"],[0.1111111111111111,\"#46039f\"],[0.2222222222222222,\"#7201a8\"],[0.3333333333333333,\"#9c179e\"],[0.4444444444444444,\"#bd3786\"],[0.5555555555555556,\"#d8576b\"],[0.6666666666666666,\"#ed7953\"],[0.7777777777777778,\"#fb9f3a\"],[0.8888888888888888,\"#fdca26\"],[1.0,\"#f0f921\"]]}],\"heatmap\":[{\"type\":\"heatmap\",\"colorbar\":{\"outlinewidth\":0,\"ticks\":\"\"},\"colorscale\":[[0.0,\"#0d0887\"],[0.1111111111111111,\"#46039f\"],[0.2222222222222222,\"#7201a8\"],[0.3333333333333333,\"#9c179e\"],[0.4444444444444444,\"#bd3786\"],[0.5555555555555556,\"#d8576b\"],[0.6666666666666666,\"#ed7953\"],[0.7777777777777778,\"#fb9f3a\"],[0.8888888888888888,\"#fdca26\"],[1.0,\"#f0f921\"]]}],\"heatmapgl\":[{\"type\":\"heatmapgl\",\"colorbar\":{\"outlinewidth\":0,\"ticks\":\"\"},\"colorscale\":[[0.0,\"#0d0887\"],[0.1111111111111111,\"#46039f\"],[0.2222222222222222,\"#7201a8\"],[0.3333333333333333,\"#9c179e\"],[0.4444444444444444,\"#bd3786\"],[0.5555555555555556,\"#d8576b\"],[0.6666666666666666,\"#ed7953\"],[0.7777777777777778,\"#fb9f3a\"],[0.8888888888888888,\"#fdca26\"],[1.0,\"#f0f921\"]]}],\"contourcarpet\":[{\"type\":\"contourcarpet\",\"colorbar\":{\"outlinewidth\":0,\"ticks\":\"\"}}],\"contour\":[{\"type\":\"contour\",\"colorbar\":{\"outlinewidth\":0,\"ticks\":\"\"},\"colorscale\":[[0.0,\"#0d0887\"],[0.1111111111111111,\"#46039f\"],[0.2222222222222222,\"#7201a8\"],[0.3333333333333333,\"#9c179e\"],[0.4444444444444444,\"#bd3786\"],[0.5555555555555556,\"#d8576b\"],[0.6666666666666666,\"#ed7953\"],[0.7777777777777778,\"#fb9f3a\"],[0.8888888888888888,\"#fdca26\"],[1.0,\"#f0f921\"]]}],\"surface\":[{\"type\":\"surface\",\"colorbar\":{\"outlinewidth\":0,\"ticks\":\"\"},\"colorscale\":[[0.0,\"#0d0887\"],[0.1111111111111111,\"#46039f\"],[0.2222222222222222,\"#7201a8\"],[0.3333333333333333,\"#9c179e\"],[0.4444444444444444,\"#bd3786\"],[0.5555555555555556,\"#d8576b\"],[0.6666666666666666,\"#ed7953\"],[0.7777777777777778,\"#fb9f3a\"],[0.8888888888888888,\"#fdca26\"],[1.0,\"#f0f921\"]]}],\"mesh3d\":[{\"type\":\"mesh3d\",\"colorbar\":{\"outlinewidth\":0,\"ticks\":\"\"}}],\"scatter\":[{\"fillpattern\":{\"fillmode\":\"overlay\",\"size\":10,\"solidity\":0.2},\"type\":\"scatter\"}],\"parcoords\":[{\"type\":\"parcoords\",\"line\":{\"colorbar\":{\"outlinewidth\":0,\"ticks\":\"\"}}}],\"scatterpolargl\":[{\"type\":\"scatterpolargl\",\"marker\":{\"colorbar\":{\"outlinewidth\":0,\"ticks\":\"\"}}}],\"bar\":[{\"error_x\":{\"color\":\"#2a3f5f\"},\"error_y\":{\"color\":\"#2a3f5f\"},\"marker\":{\"line\":{\"color\":\"#E5ECF6\",\"width\":0.5},\"pattern\":{\"fillmode\":\"overlay\",\"size\":10,\"solidity\":0.2}},\"type\":\"bar\"}],\"scattergeo\":[{\"type\":\"scattergeo\",\"marker\":{\"colorbar\":{\"outlinewidth\":0,\"ticks\":\"\"}}}],\"scatterpolar\":[{\"type\":\"scatterpolar\",\"marker\":{\"colorbar\":{\"outlinewidth\":0,\"ticks\":\"\"}}}],\"histogram\":[{\"marker\":{\"pattern\":{\"fillmode\":\"overlay\",\"size\":10,\"solidity\":0.2}},\"type\":\"histogram\"}],\"scattergl\":[{\"type\":\"scattergl\",\"marker\":{\"colorbar\":{\"outlinewidth\":0,\"ticks\":\"\"}}}],\"scatter3d\":[{\"type\":\"scatter3d\",\"line\":{\"colorbar\":{\"outlinewidth\":0,\"ticks\":\"\"}},\"marker\":{\"colorbar\":{\"outlinewidth\":0,\"ticks\":\"\"}}}],\"scattermapbox\":[{\"type\":\"scattermapbox\",\"marker\":{\"colorbar\":{\"outlinewidth\":0,\"ticks\":\"\"}}}],\"scatterternary\":[{\"type\":\"scatterternary\",\"marker\":{\"colorbar\":{\"outlinewidth\":0,\"ticks\":\"\"}}}],\"scattercarpet\":[{\"type\":\"scattercarpet\",\"marker\":{\"colorbar\":{\"outlinewidth\":0,\"ticks\":\"\"}}}],\"carpet\":[{\"aaxis\":{\"endlinecolor\":\"#2a3f5f\",\"gridcolor\":\"white\",\"linecolor\":\"white\",\"minorgridcolor\":\"white\",\"startlinecolor\":\"#2a3f5f\"},\"baxis\":{\"endlinecolor\":\"#2a3f5f\",\"gridcolor\":\"white\",\"linecolor\":\"white\",\"minorgridcolor\":\"white\",\"startlinecolor\":\"#2a3f5f\"},\"type\":\"carpet\"}],\"table\":[{\"cells\":{\"fill\":{\"color\":\"#EBF0F8\"},\"line\":{\"color\":\"white\"}},\"header\":{\"fill\":{\"color\":\"#C8D4E3\"},\"line\":{\"color\":\"white\"}},\"type\":\"table\"}],\"barpolar\":[{\"marker\":{\"line\":{\"color\":\"#E5ECF6\",\"width\":0.5},\"pattern\":{\"fillmode\":\"overlay\",\"size\":10,\"solidity\":0.2}},\"type\":\"barpolar\"}],\"pie\":[{\"automargin\":true,\"type\":\"pie\"}]},\"layout\":{\"autotypenumbers\":\"strict\",\"colorway\":[\"#636efa\",\"#EF553B\",\"#00cc96\",\"#ab63fa\",\"#FFA15A\",\"#19d3f3\",\"#FF6692\",\"#B6E880\",\"#FF97FF\",\"#FECB52\"],\"font\":{\"color\":\"#2a3f5f\"},\"hovermode\":\"closest\",\"hoverlabel\":{\"align\":\"left\"},\"paper_bgcolor\":\"white\",\"plot_bgcolor\":\"#E5ECF6\",\"polar\":{\"bgcolor\":\"#E5ECF6\",\"angularaxis\":{\"gridcolor\":\"white\",\"linecolor\":\"white\",\"ticks\":\"\"},\"radialaxis\":{\"gridcolor\":\"white\",\"linecolor\":\"white\",\"ticks\":\"\"}},\"ternary\":{\"bgcolor\":\"#E5ECF6\",\"aaxis\":{\"gridcolor\":\"white\",\"linecolor\":\"white\",\"ticks\":\"\"},\"baxis\":{\"gridcolor\":\"white\",\"linecolor\":\"white\",\"ticks\":\"\"},\"caxis\":{\"gridcolor\":\"white\",\"linecolor\":\"white\",\"ticks\":\"\"}},\"coloraxis\":{\"colorbar\":{\"outlinewidth\":0,\"ticks\":\"\"}},\"colorscale\":{\"sequential\":[[0.0,\"#0d0887\"],[0.1111111111111111,\"#46039f\"],[0.2222222222222222,\"#7201a8\"],[0.3333333333333333,\"#9c179e\"],[0.4444444444444444,\"#bd3786\"],[0.5555555555555556,\"#d8576b\"],[0.6666666666666666,\"#ed7953\"],[0.7777777777777778,\"#fb9f3a\"],[0.8888888888888888,\"#fdca26\"],[1.0,\"#f0f921\"]],\"sequentialminus\":[[0.0,\"#0d0887\"],[0.1111111111111111,\"#46039f\"],[0.2222222222222222,\"#7201a8\"],[0.3333333333333333,\"#9c179e\"],[0.4444444444444444,\"#bd3786\"],[0.5555555555555556,\"#d8576b\"],[0.6666666666666666,\"#ed7953\"],[0.7777777777777778,\"#fb9f3a\"],[0.8888888888888888,\"#fdca26\"],[1.0,\"#f0f921\"]],\"diverging\":[[0,\"#8e0152\"],[0.1,\"#c51b7d\"],[0.2,\"#de77ae\"],[0.3,\"#f1b6da\"],[0.4,\"#fde0ef\"],[0.5,\"#f7f7f7\"],[0.6,\"#e6f5d0\"],[0.7,\"#b8e186\"],[0.8,\"#7fbc41\"],[0.9,\"#4d9221\"],[1,\"#276419\"]]},\"xaxis\":{\"gridcolor\":\"white\",\"linecolor\":\"white\",\"ticks\":\"\",\"title\":{\"standoff\":15},\"zerolinecolor\":\"white\",\"automargin\":true,\"zerolinewidth\":2},\"yaxis\":{\"gridcolor\":\"white\",\"linecolor\":\"white\",\"ticks\":\"\",\"title\":{\"standoff\":15},\"zerolinecolor\":\"white\",\"automargin\":true,\"zerolinewidth\":2},\"scene\":{\"xaxis\":{\"backgroundcolor\":\"#E5ECF6\",\"gridcolor\":\"white\",\"linecolor\":\"white\",\"showbackground\":true,\"ticks\":\"\",\"zerolinecolor\":\"white\",\"gridwidth\":2},\"yaxis\":{\"backgroundcolor\":\"#E5ECF6\",\"gridcolor\":\"white\",\"linecolor\":\"white\",\"showbackground\":true,\"ticks\":\"\",\"zerolinecolor\":\"white\",\"gridwidth\":2},\"zaxis\":{\"backgroundcolor\":\"#E5ECF6\",\"gridcolor\":\"white\",\"linecolor\":\"white\",\"showbackground\":true,\"ticks\":\"\",\"zerolinecolor\":\"white\",\"gridwidth\":2}},\"shapedefaults\":{\"line\":{\"color\":\"#2a3f5f\"}},\"annotationdefaults\":{\"arrowcolor\":\"#2a3f5f\",\"arrowhead\":0,\"arrowwidth\":1},\"geo\":{\"bgcolor\":\"white\",\"landcolor\":\"#E5ECF6\",\"subunitcolor\":\"white\",\"showland\":true,\"showlakes\":true,\"lakecolor\":\"white\"},\"title\":{\"x\":0.05},\"mapbox\":{\"style\":\"light\"}}},\"xaxis\":{\"anchor\":\"y\",\"domain\":[0.0,1.0],\"title\":{\"text\":\"Fruits\"}},\"yaxis\":{\"anchor\":\"x\",\"domain\":[0.0,1.0],\"title\":{\"text\":\"Quantity\"}},\"legend\":{\"tracegroupgap\":0},\"title\":{\"text\":\"Fruit Bar Plot\"},\"barmode\":\"relative\"},                        {\"responsive\": true}                    ).then(function(){\n",
              "                            \n",
              "var gd = document.getElementById('8c3f4247-9000-45b7-a13a-84e534a02335');\n",
              "var x = new MutationObserver(function (mutations, observer) {{\n",
              "        var display = window.getComputedStyle(gd).display;\n",
              "        if (!display || display === 'none') {{\n",
              "            console.log([gd, 'removed!']);\n",
              "            Plotly.purge(gd);\n",
              "            observer.disconnect();\n",
              "        }}\n",
              "}});\n",
              "\n",
              "// Listen for the removal of the full notebook cells\n",
              "var notebookContainer = gd.closest('#notebook-container');\n",
              "if (notebookContainer) {{\n",
              "    x.observe(notebookContainer, {childList: true});\n",
              "}}\n",
              "\n",
              "// Listen for the clearing of the current output cell\n",
              "var outputEl = gd.closest('.output');\n",
              "if (outputEl) {{\n",
              "    x.observe(outputEl, {childList: true});\n",
              "}}\n",
              "\n",
              "                        })                };                            </script>        </div>\n",
              "</body>\n",
              "</html>"
            ]
          },
          "metadata": {}
        }
      ]
    },
    {
      "cell_type": "code",
      "source": [
        "# Q6. Create a DataFrame and add a new column based on an existing column\n",
        "import pandas as pd\n",
        "\n",
        "df = pd.DataFrame({\"Name\": [\"A\", \"B\", \"C\"], \"Marks\": [50, 70, 90]})\n",
        "df[\"Passed\"] = df[\"Marks\"] >= 60\n",
        "print(df)\n"
      ],
      "metadata": {
        "colab": {
          "base_uri": "https://localhost:8080/"
        },
        "id": "3UIvG3w9pL9L",
        "outputId": "62c169b0-89a3-42cc-9551-18856dc550a6"
      },
      "execution_count": 25,
      "outputs": [
        {
          "output_type": "stream",
          "name": "stdout",
          "text": [
            "  Name  Marks  Passed\n",
            "0    A     50   False\n",
            "1    B     70    True\n",
            "2    C     90    True\n"
          ]
        }
      ]
    },
    {
      "cell_type": "code",
      "source": [
        "# Q7. Perform element-wise multiplication of two NumPy arrays\n",
        "import numpy as np\n",
        "\n",
        "a = np.array([1, 2, 3])\n",
        "b = np.array([4, 5, 6])\n",
        "\n",
        "result = a * b\n",
        "print(\"Element-wise multiplication:\", result)\n"
      ],
      "metadata": {
        "colab": {
          "base_uri": "https://localhost:8080/"
        },
        "id": "i0asDubRpOU0",
        "outputId": "19d9752a-a448-4ed2-cdca-e6a999adc530"
      },
      "execution_count": 26,
      "outputs": [
        {
          "output_type": "stream",
          "name": "stdout",
          "text": [
            "Element-wise multiplication: [ 4 10 18]\n"
          ]
        }
      ]
    },
    {
      "cell_type": "code",
      "source": [
        "# Q8. Create a line plot with multiple lines using Matplotlib\n",
        "import matplotlib.pyplot as plt\n",
        "\n",
        "x = [1, 2, 3, 4]\n",
        "y1 = [1, 4, 9, 16]\n",
        "y2 = [1, 2, 3, 4]\n",
        "\n",
        "plt.plot(x, y1, label=\"y = x^2\")\n",
        "plt.plot(x, y2, label=\"y = x\")\n",
        "plt.legend()\n",
        "plt.title(\"Multiple Line Plot\")\n",
        "plt.show()\n"
      ],
      "metadata": {
        "colab": {
          "base_uri": "https://localhost:8080/",
          "height": 452
        },
        "id": "zEtDDYFqpQQK",
        "outputId": "a0445401-8ec7-481f-b337-7672d98185ce"
      },
      "execution_count": 27,
      "outputs": [
        {
          "output_type": "display_data",
          "data": {
            "text/plain": [
              "<Figure size 640x480 with 1 Axes>"
            ],
            "image/png": "[encoded data removed]"
          },
          "metadata": {}
        }
      ]
    },
    {
      "cell_type": "code",
      "source": [
        "# Q9. Generate a Pandas DataFrame and filter rows where column > threshold\n",
        "import pandas as pd\n",
        "\n",
        "df = pd.DataFrame({\"Name\": [\"A\", \"B\", \"C\", \"D\"],\n",
        "                   \"Marks\": [45, 67, 89, 30]})\n",
        "filtered = df[df[\"Marks\"] > 50]\n",
        "print(filtered)\n"
      ],
      "metadata": {
        "colab": {
          "base_uri": "https://localhost:8080/"
        },
        "id": "7nR41tDJpVKG",
        "outputId": "131db65e-32c7-4a86-b819-420124576b1f"
      },
      "execution_count": 28,
      "outputs": [
        {
          "output_type": "stream",
          "name": "stdout",
          "text": [
            "  Name  Marks\n",
            "1    B     67\n",
            "2    C     89\n"
          ]
        }
      ]
    },
    {
      "cell_type": "code",
      "source": [
        "# Q10. Create a histogram using Seaborn to visualize distribution\n",
        "import seaborn as sns\n",
        "\n",
        "data = [1, 2, 2, 3, 3, 3, 4, 4, 5]\n",
        "sns.histplot(data, bins=5, kde=True)\n",
        "plt.title(\"Distribution Histogram\")\n",
        "plt.show()\n"
      ],
      "metadata": {
        "colab": {
          "base_uri": "https://localhost:8080/",
          "height": 452
        },
        "id": "xjxtaYhzpXvb",
        "outputId": "0b9e6967-fd4b-42ab-a4f8-c141146deef0"
      },
      "execution_count": 29,
      "outputs": [
        {
          "output_type": "display_data",
          "data": {
            "text/plain": [
              "<Figure size 640x480 with 1 Axes>"
            ],
            "image/png": "[encoded data removed]"
          },
          "metadata": {}
        }
      ]
    },
    {
      "cell_type": "code",
      "source": [
        "# Q11. Perform matrix multiplication using NumPy\n",
        "import numpy as np\n",
        "\n",
        "A = np.array([[1, 2], [3, 4]])\n",
        "B = np.array([[5, 6], [7, 8]])\n",
        "\n",
        "result = np.dot(A, B)\n",
        "print(\"Matrix Multiplication:\\n\", result)\n"
      ],
      "metadata": {
        "colab": {
          "base_uri": "https://localhost:8080/"
        },
        "id": "4J87KPQlpajG",
        "outputId": "c0cc9acd-799f-473e-d969-dc6b3559c890"
      },
      "execution_count": 30,
      "outputs": [
        {
          "output_type": "stream",
          "name": "stdout",
          "text": [
            "Matrix Multiplication:\n",
            " [[19 22]\n",
            " [43 50]]\n"
          ]
        }
      ]
    },
    {
      "cell_type": "code",
      "source": [
        "# Q12. Use Pandas to load a CSV file and display its first 5 rows\n",
        "import pandas as pd\n",
        "\n",
        "# Replace \"your_file.csv\" with a real CSV path\n",
        "df = pd.read_csv(\"your_file.csv\")\n",
        "print(df.head())\n"
      ],
      "metadata": {
        "colab": {
          "base_uri": "https://localhost:8080/",
          "height": 372
        },
        "id": "DkjXsTNCpivH",
        "outputId": "03614362-e1b7-4a18-8082-c45742f4082c"
      },
      "execution_count": 31,
      "outputs": [
        {
          "output_type": "error",
          "ename": "FileNotFoundError",
          "evalue": "[Errno 2] No such file or directory: 'your_file.csv'",
          "traceback": [
            "\u001b[0;31m---------------------------------------------------------------------------\u001b[0m",
            "\u001b[0;31mFileNotFoundError\u001b[0m                         Traceback (most recent call last)",
            "\u001b[0;32m/tmp/ipython-input-3528045042.py\u001b[0m in \u001b[0;36m<cell line: 0>\u001b[0;34m()\u001b[0m\n\u001b[1;32m      3\u001b[0m \u001b[0;34m\u001b[0m\u001b[0m\n\u001b[1;32m      4\u001b[0m \u001b[0;31m# Replace \"your_file.csv\" with a real CSV path\u001b[0m\u001b[0;34m\u001b[0m\u001b[0;34m\u001b[0m\u001b[0m\n\u001b[0;32m----> 5\u001b[0;31m \u001b[0mdf\u001b[0m \u001b[0;34m=\u001b[0m \u001b[0mpd\u001b[0m\u001b[0;34m.\u001b[0m\u001b[0mread_csv\u001b[0m\u001b[0;34m(\u001b[0m\u001b[0;34m\"your_file.csv\"\u001b[0m\u001b[0;34m)\u001b[0m\u001b[0;34m\u001b[0m\u001b[0;34m\u001b[0m\u001b[0m\n\u001b[0m\u001b[1;32m      6\u001b[0m \u001b[0mprint\u001b[0m\u001b[0;34m(\u001b[0m\u001b[0mdf\u001b[0m\u001b[0;34m.\u001b[0m\u001b[0mhead\u001b[0m\u001b[0;34m(\u001b[0m\u001b[0;34m)\u001b[0m\u001b[0;34m)\u001b[0m\u001b[0;34m\u001b[0m\u001b[0;34m\u001b[0m\u001b[0m\n",
            "\u001b[0;32m/usr/local/lib/python3.12/dist-packages/pandas/io/parsers/readers.py\u001b[0m in \u001b[0;36mread_csv\u001b[0;34m(filepath_or_buffer, sep, delimiter, header, names, index_col, usecols, dtype, engine, converters, true_values, false_values, skipinitialspace, skiprows, skipfooter, nrows, na_values, keep_default_na, na_filter, verbose, skip_blank_lines, parse_dates, infer_datetime_format, keep_date_col, date_parser, date_format, dayfirst, cache_dates, iterator, chunksize, compression, thousands, decimal, lineterminator, quotechar, quoting, doublequote, escapechar, comment, encoding, encoding_errors, dialect, on_bad_lines, delim_whitespace, low_memory, memory_map, float_precision, storage_options, dtype_backend)\u001b[0m\n\u001b[1;32m   1024\u001b[0m     \u001b[0mkwds\u001b[0m\u001b[0;34m.\u001b[0m\u001b[0mupdate\u001b[0m\u001b[0;34m(\u001b[0m\u001b[0mkwds_defaults\u001b[0m\u001b[0;34m)\u001b[0m\u001b[0;34m\u001b[0m\u001b[0;34m\u001b[0m\u001b[0m\n\u001b[1;32m   1025\u001b[0m \u001b[0;34m\u001b[0m\u001b[0m\n\u001b[0;32m-> 1026\u001b[0;31m     \u001b[0;32mreturn\u001b[0m \u001b[0m_read\u001b[0m\u001b[0;34m(\u001b[0m\u001b[0mfilepath_or_buffer\u001b[0m\u001b[0;34m,\u001b[0m \u001b[0mkwds\u001b[0m\u001b[0;34m)\u001b[0m\u001b[0;34m\u001b[0m\u001b[0;34m\u001b[0m\u001b[0m\n\u001b[0m\u001b[1;32m   1027\u001b[0m \u001b[0;34m\u001b[0m\u001b[0m\n\u001b[1;32m   1028\u001b[0m \u001b[0;34m\u001b[0m\u001b[0m\n",
            "\u001b[0;32m/usr/local/lib/python3.12/dist-packages/pandas/io/parsers/readers.py\u001b[0m in \u001b[0;36m_read\u001b[0;34m(filepath_or_buffer, kwds)\u001b[0m\n\u001b[1;32m    618\u001b[0m \u001b[0;34m\u001b[0m\u001b[0m\n\u001b[1;32m    619\u001b[0m     \u001b[0;31m# Create the parser.\u001b[0m\u001b[0;34m\u001b[0m\u001b[0;34m\u001b[0m\u001b[0m\n\u001b[0;32m--> 620\u001b[0;31m     \u001b[0mparser\u001b[0m \u001b[0;34m=\u001b[0m \u001b[0mTextFileReader\u001b[0m\u001b[0;34m(\u001b[0m\u001b[0mfilepath_or_buffer\u001b[0m\u001b[0;34m,\u001b[0m \u001b[0;34m**\u001b[0m\u001b[0mkwds\u001b[0m\u001b[0;34m)\u001b[0m\u001b[0;34m\u001b[0m\u001b[0;34m\u001b[0m\u001b[0m\n\u001b[0m\u001b[1;32m    621\u001b[0m \u001b[0;34m\u001b[0m\u001b[0m\n\u001b[1;32m    622\u001b[0m     \u001b[0;32mif\u001b[0m \u001b[0mchunksize\u001b[0m \u001b[0;32mor\u001b[0m \u001b[0miterator\u001b[0m\u001b[0;34m:\u001b[0m\u001b[0;34m\u001b[0m\u001b[0;34m\u001b[0m\u001b[0m\n",
            "\u001b[0;32m/usr/local/lib/python3.12/dist-packages/pandas/io/parsers/readers.py\u001b[0m in \u001b[0;36m__init__\u001b[0;34m(self, f, engine, **kwds)\u001b[0m\n\u001b[1;32m   1618\u001b[0m \u001b[0;34m\u001b[0m\u001b[0m\n\u001b[1;32m   1619\u001b[0m         \u001b[0mself\u001b[0m\u001b[0;34m.\u001b[0m\u001b[0mhandles\u001b[0m\u001b[0;34m:\u001b[0m \u001b[0mIOHandles\u001b[0m \u001b[0;34m|\u001b[0m \u001b[0;32mNone\u001b[0m \u001b[0;34m=\u001b[0m \u001b[0;32mNone\u001b[0m\u001b[0;34m\u001b[0m\u001b[0;34m\u001b[0m\u001b[0m\n\u001b[0;32m-> 1620\u001b[0;31m         \u001b[0mself\u001b[0m\u001b[0;34m.\u001b[0m\u001b[0m_engine\u001b[0m \u001b[0;34m=\u001b[0m \u001b[0mself\u001b[0m\u001b[0;34m.\u001b[0m\u001b[0m_make_engine\u001b[0m\u001b[0;34m(\u001b[0m\u001b[0mf\u001b[0m\u001b[0;34m,\u001b[0m \u001b[0mself\u001b[0m\u001b[0;34m.\u001b[0m\u001b[0mengine\u001b[0m\u001b[0;34m)\u001b[0m\u001b[0;34m\u001b[0m\u001b[0;34m\u001b[0m\u001b[0m\n\u001b[0m\u001b[1;32m   1621\u001b[0m \u001b[0;34m\u001b[0m\u001b[0m\n\u001b[1;32m   1622\u001b[0m     \u001b[0;32mdef\u001b[0m \u001b[0mclose\u001b[0m\u001b[0;34m(\u001b[0m\u001b[0mself\u001b[0m\u001b[0;34m)\u001b[0m \u001b[0;34m->\u001b[0m \u001b[0;32mNone\u001b[0m\u001b[0;34m:\u001b[0m\u001b[0;34m\u001b[0m\u001b[0;34m\u001b[0m\u001b[0m\n",
            "\u001b[0;32m/usr/local/lib/python3.12/dist-packages/pandas/io/parsers/readers.py\u001b[0m in \u001b[0;36m_make_engine\u001b[0;34m(self, f, engine)\u001b[0m\n\u001b[1;32m   1878\u001b[0m                 \u001b[0;32mif\u001b[0m \u001b[0;34m\"b\"\u001b[0m \u001b[0;32mnot\u001b[0m \u001b[0;32min\u001b[0m \u001b[0mmode\u001b[0m\u001b[0;34m:\u001b[0m\u001b[0;34m\u001b[0m\u001b[0;34m\u001b[0m\u001b[0m\n\u001b[1;32m   1879\u001b[0m                     \u001b[0mmode\u001b[0m \u001b[0;34m+=\u001b[0m \u001b[0;34m\"b\"\u001b[0m\u001b[0;34m\u001b[0m\u001b[0;34m\u001b[0m\u001b[0m\n\u001b[0;32m-> 1880\u001b[0;31m             self.handles = get_handle(\n\u001b[0m\u001b[1;32m   1881\u001b[0m                 \u001b[0mf\u001b[0m\u001b[0;34m,\u001b[0m\u001b[0;34m\u001b[0m\u001b[0;34m\u001b[0m\u001b[0m\n\u001b[1;32m   1882\u001b[0m                 \u001b[0mmode\u001b[0m\u001b[0;34m,\u001b[0m\u001b[0;34m\u001b[0m\u001b[0;34m\u001b[0m\u001b[0m\n",
            "\u001b[0;32m/usr/local/lib/python3.12/dist-packages/pandas/io/common.py\u001b[0m in \u001b[0;36mget_handle\u001b[0;34m(path_or_buf, mode, encoding, compression, memory_map, is_text, errors, storage_options)\u001b[0m\n\u001b[1;32m    871\u001b[0m         \u001b[0;32mif\u001b[0m \u001b[0mioargs\u001b[0m\u001b[0;34m.\u001b[0m\u001b[0mencoding\u001b[0m \u001b[0;32mand\u001b[0m \u001b[0;34m\"b\"\u001b[0m \u001b[0;32mnot\u001b[0m \u001b[0;32min\u001b[0m \u001b[0mioargs\u001b[0m\u001b[0;34m.\u001b[0m\u001b[0mmode\u001b[0m\u001b[0;34m:\u001b[0m\u001b[0;34m\u001b[0m\u001b[0;34m\u001b[0m\u001b[0m\n\u001b[1;32m    872\u001b[0m             \u001b[0;31m# Encoding\u001b[0m\u001b[0;34m\u001b[0m\u001b[0;34m\u001b[0m\u001b[0m\n\u001b[0;32m--> 873\u001b[0;31m             handle = open(\n\u001b[0m\u001b[1;32m    874\u001b[0m                 \u001b[0mhandle\u001b[0m\u001b[0;34m,\u001b[0m\u001b[0;34m\u001b[0m\u001b[0;34m\u001b[0m\u001b[0m\n\u001b[1;32m    875\u001b[0m                 \u001b[0mioargs\u001b[0m\u001b[0;34m.\u001b[0m\u001b[0mmode\u001b[0m\u001b[0;34m,\u001b[0m\u001b[0;34m\u001b[0m\u001b[0;34m\u001b[0m\u001b[0m\n",
            "\u001b[0;31mFileNotFoundError\u001b[0m: [Errno 2] No such file or directory: 'your_file.csv'"
          ]
        }
      ]
    },
    {
      "cell_type": "code",
      "source": [
        "# Q13. Create a 3D scatter plot using Plotly\n",
        "import plotly.express as px\n",
        "\n",
        "df = pd.DataFrame({\n",
        "    \"x\": [1, 2, 3, 4, 5],\n",
        "    \"y\": [10, 11, 12, 13, 14],\n",
        "    \"z\": [5, 6, 7, 8, 9],\n",
        "    \"color\": [1, 2, 3, 4, 5]\n",
        "})\n",
        "\n",
        "fig = px.scatter_3d(df, x=\"x\", y=\"y\", z=\"z\", color=\"color\", title=\"3D Scatter Plot\")\n",
        "fig.show()\n"
      ],
      "metadata": {
        "colab": {
          "base_uri": "https://localhost:8080/",
          "height": 542
        },
        "id": "xGtQmI__plMx",
        "outputId": "c68e93ae-ab45-48ac-990a-19e583af68e7"
      },
      "execution_count": 32,
      "outputs": [
        {
          "output_type": "display_data",
          "data": {
            "text/html": [
              "<html>\n",
              "<head><meta charset=\"utf-8\" /></head>\n",
              "<body>\n",
              "    <div>            <script src=\"https://cdnjs.cloudflare.com/ajax/libs/mathjax/2.7.5/MathJax.js?config=TeX-AMS-MML_SVG\"></script><script type=\"text/javascript\">if (window.MathJax && window.MathJax.Hub && window.MathJax.Hub.Config) {window.MathJax.Hub.Config({SVG: {font: \"STIX-Web\"}});}</script>                <script type=\"text/javascript\">window.PlotlyConfig = {MathJaxConfig: 'local'};</script>\n",
              "        <script charset=\"utf-8\" src=\"https://cdn.plot.ly/plotly-2.35.2.min.js\"></script>                <div id=\"5eb31a91-7430-4cf8-bcba-e02690bcbc54\" class=\"plotly-graph-div\" style=\"height:525px; width:100%;\"></div>            <script type=\"text/javascript\">                                    window.PLOTLYENV=window.PLOTLYENV || {};                                    if (document.getElementById(\"5eb31a91-7430-4cf8-bcba-e02690bcbc54\")) {                    Plotly.newPlot(                        \"5eb31a91-7430-4cf8-bcba-e02690bcbc54\",                        [{\"hovertemplate\":\"x=%{x}\\u003cbr\\u003ey=%{y}\\u003cbr\\u003ez=%{z}\\u003cbr\\u003ecolor=%{marker.color}\\u003cextra\\u003e\\u003c\\u002fextra\\u003e\",\"legendgroup\":\"\",\"marker\":{\"color\":[1,2,3,4,5],\"coloraxis\":\"coloraxis\",\"symbol\":\"circle\"},\"mode\":\"markers\",\"name\":\"\",\"scene\":\"scene\",\"showlegend\":false,\"x\":[1,2,3,4,5],\"y\":[10,11,12,13,14],\"z\":[5,6,7,8,9],\"type\":\"scatter3d\"}],                        {\"template\":{\"data\":{\"histogram2dcontour\":[{\"type\":\"histogram2dcontour\",\"colorbar\":{\"outlinewidth\":0,\"ticks\":\"\"},\"colorscale\":[[0.0,\"#0d0887\"],[0.1111111111111111,\"#46039f\"],[0.2222222222222222,\"#7201a8\"],[0.3333333333333333,\"#9c179e\"],[0.4444444444444444,\"#bd3786\"],[0.5555555555555556,\"#d8576b\"],[0.6666666666666666,\"#ed7953\"],[0.7777777777777778,\"#fb9f3a\"],[0.8888888888888888,\"#fdca26\"],[1.0,\"#f0f921\"]]}],\"choropleth\":[{\"type\":\"choropleth\",\"colorbar\":{\"outlinewidth\":0,\"ticks\":\"\"}}],\"histogram2d\":[{\"type\":\"histogram2d\",\"colorbar\":{\"outlinewidth\":0,\"ticks\":\"\"},\"colorscale\":[[0.0,\"#0d0887\"],[0.1111111111111111,\"#46039f\"],[0.2222222222222222,\"#7201a8\"],[0.3333333333333333,\"#9c179e\"],[0.4444444444444444,\"#bd3786\"],[0.5555555555555556,\"#d8576b\"],[0.6666666666666666,\"#ed7953\"],[0.7777777777777778,\"#fb9f3a\"],[0.8888888888888888,\"#fdca26\"],[1.0,\"#f0f921\"]]}],\"heatmap\":[{\"type\":\"heatmap\",\"colorbar\":{\"outlinewidth\":0,\"ticks\":\"\"},\"colorscale\":[[0.0,\"#0d0887\"],[0.1111111111111111,\"#46039f\"],[0.2222222222222222,\"#7201a8\"],[0.3333333333333333,\"#9c179e\"],[0.4444444444444444,\"#bd3786\"],[0.5555555555555556,\"#d8576b\"],[0.6666666666666666,\"#ed7953\"],[0.7777777777777778,\"#fb9f3a\"],[0.8888888888888888,\"#fdca26\"],[1.0,\"#f0f921\"]]}],\"heatmapgl\":[{\"type\":\"heatmapgl\",\"colorbar\":{\"outlinewidth\":0,\"ticks\":\"\"},\"colorscale\":[[0.0,\"#0d0887\"],[0.1111111111111111,\"#46039f\"],[0.2222222222222222,\"#7201a8\"],[0.3333333333333333,\"#9c179e\"],[0.4444444444444444,\"#bd3786\"],[0.5555555555555556,\"#d8576b\"],[0.6666666666666666,\"#ed7953\"],[0.7777777777777778,\"#fb9f3a\"],[0.8888888888888888,\"#fdca26\"],[1.0,\"#f0f921\"]]}],\"contourcarpet\":[{\"type\":\"contourcarpet\",\"colorbar\":{\"outlinewidth\":0,\"ticks\":\"\"}}],\"contour\":[{\"type\":\"contour\",\"colorbar\":{\"outlinewidth\":0,\"ticks\":\"\"},\"colorscale\":[[0.0,\"#0d0887\"],[0.1111111111111111,\"#46039f\"],[0.2222222222222222,\"#7201a8\"],[0.3333333333333333,\"#9c179e\"],[0.4444444444444444,\"#bd3786\"],[0.5555555555555556,\"#d8576b\"],[0.6666666666666666,\"#ed7953\"],[0.7777777777777778,\"#fb9f3a\"],[0.8888888888888888,\"#fdca26\"],[1.0,\"#f0f921\"]]}],\"surface\":[{\"type\":\"surface\",\"colorbar\":{\"outlinewidth\":0,\"ticks\":\"\"},\"colorscale\":[[0.0,\"#0d0887\"],[0.1111111111111111,\"#46039f\"],[0.2222222222222222,\"#7201a8\"],[0.3333333333333333,\"#9c179e\"],[0.4444444444444444,\"#bd3786\"],[0.5555555555555556,\"#d8576b\"],[0.6666666666666666,\"#ed7953\"],[0.7777777777777778,\"#fb9f3a\"],[0.8888888888888888,\"#fdca26\"],[1.0,\"#f0f921\"]]}],\"mesh3d\":[{\"type\":\"mesh3d\",\"colorbar\":{\"outlinewidth\":0,\"ticks\":\"\"}}],\"scatter\":[{\"fillpattern\":{\"fillmode\":\"overlay\",\"size\":10,\"solidity\":0.2},\"type\":\"scatter\"}],\"parcoords\":[{\"type\":\"parcoords\",\"line\":{\"colorbar\":{\"outlinewidth\":0,\"ticks\":\"\"}}}],\"scatterpolargl\":[{\"type\":\"scatterpolargl\",\"marker\":{\"colorbar\":{\"outlinewidth\":0,\"ticks\":\"\"}}}],\"bar\":[{\"error_x\":{\"color\":\"#2a3f5f\"},\"error_y\":{\"color\":\"#2a3f5f\"},\"marker\":{\"line\":{\"color\":\"#E5ECF6\",\"width\":0.5},\"pattern\":{\"fillmode\":\"overlay\",\"size\":10,\"solidity\":0.2}},\"type\":\"bar\"}],\"scattergeo\":[{\"type\":\"scattergeo\",\"marker\":{\"colorbar\":{\"outlinewidth\":0,\"ticks\":\"\"}}}],\"scatterpolar\":[{\"type\":\"scatterpolar\",\"marker\":{\"colorbar\":{\"outlinewidth\":0,\"ticks\":\"\"}}}],\"histogram\":[{\"marker\":{\"pattern\":{\"fillmode\":\"overlay\",\"size\":10,\"solidity\":0.2}},\"type\":\"histogram\"}],\"scattergl\":[{\"type\":\"scattergl\",\"marker\":{\"colorbar\":{\"outlinewidth\":0,\"ticks\":\"\"}}}],\"scatter3d\":[{\"type\":\"scatter3d\",\"line\":{\"colorbar\":{\"outlinewidth\":0,\"ticks\":\"\"}},\"marker\":{\"colorbar\":{\"outlinewidth\":0,\"ticks\":\"\"}}}],\"scattermapbox\":[{\"type\":\"scattermapbox\",\"marker\":{\"colorbar\":{\"outlinewidth\":0,\"ticks\":\"\"}}}],\"scatterternary\":[{\"type\":\"scatterternary\",\"marker\":{\"colorbar\":{\"outlinewidth\":0,\"ticks\":\"\"}}}],\"scattercarpet\":[{\"type\":\"scattercarpet\",\"marker\":{\"colorbar\":{\"outlinewidth\":0,\"ticks\":\"\"}}}],\"carpet\":[{\"aaxis\":{\"endlinecolor\":\"#2a3f5f\",\"gridcolor\":\"white\",\"linecolor\":\"white\",\"minorgridcolor\":\"white\",\"startlinecolor\":\"#2a3f5f\"},\"baxis\":{\"endlinecolor\":\"#2a3f5f\",\"gridcolor\":\"white\",\"linecolor\":\"white\",\"minorgridcolor\":\"white\",\"startlinecolor\":\"#2a3f5f\"},\"type\":\"carpet\"}],\"table\":[{\"cells\":{\"fill\":{\"color\":\"#EBF0F8\"},\"line\":{\"color\":\"white\"}},\"header\":{\"fill\":{\"color\":\"#C8D4E3\"},\"line\":{\"color\":\"white\"}},\"type\":\"table\"}],\"barpolar\":[{\"marker\":{\"line\":{\"color\":\"#E5ECF6\",\"width\":0.5},\"pattern\":{\"fillmode\":\"overlay\",\"size\":10,\"solidity\":0.2}},\"type\":\"barpolar\"}],\"pie\":[{\"automargin\":true,\"type\":\"pie\"}]},\"layout\":{\"autotypenumbers\":\"strict\",\"colorway\":[\"#636efa\",\"#EF553B\",\"#00cc96\",\"#ab63fa\",\"#FFA15A\",\"#19d3f3\",\"#FF6692\",\"#B6E880\",\"#FF97FF\",\"#FECB52\"],\"font\":{\"color\":\"#2a3f5f\"},\"hovermode\":\"closest\",\"hoverlabel\":{\"align\":\"left\"},\"paper_bgcolor\":\"white\",\"plot_bgcolor\":\"#E5ECF6\",\"polar\":{\"bgcolor\":\"#E5ECF6\",\"angularaxis\":{\"gridcolor\":\"white\",\"linecolor\":\"white\",\"ticks\":\"\"},\"radialaxis\":{\"gridcolor\":\"white\",\"linecolor\":\"white\",\"ticks\":\"\"}},\"ternary\":{\"bgcolor\":\"#E5ECF6\",\"aaxis\":{\"gridcolor\":\"white\",\"linecolor\":\"white\",\"ticks\":\"\"},\"baxis\":{\"gridcolor\":\"white\",\"linecolor\":\"white\",\"ticks\":\"\"},\"caxis\":{\"gridcolor\":\"white\",\"linecolor\":\"white\",\"ticks\":\"\"}},\"coloraxis\":{\"colorbar\":{\"outlinewidth\":0,\"ticks\":\"\"}},\"colorscale\":{\"sequential\":[[0.0,\"#0d0887\"],[0.1111111111111111,\"#46039f\"],[0.2222222222222222,\"#7201a8\"],[0.3333333333333333,\"#9c179e\"],[0.4444444444444444,\"#bd3786\"],[0.5555555555555556,\"#d8576b\"],[0.6666666666666666,\"#ed7953\"],[0.7777777777777778,\"#fb9f3a\"],[0.8888888888888888,\"#fdca26\"],[1.0,\"#f0f921\"]],\"sequentialminus\":[[0.0,\"#0d0887\"],[0.1111111111111111,\"#46039f\"],[0.2222222222222222,\"#7201a8\"],[0.3333333333333333,\"#9c179e\"],[0.4444444444444444,\"#bd3786\"],[0.5555555555555556,\"#d8576b\"],[0.6666666666666666,\"#ed7953\"],[0.7777777777777778,\"#fb9f3a\"],[0.8888888888888888,\"#fdca26\"],[1.0,\"#f0f921\"]],\"diverging\":[[0,\"#8e0152\"],[0.1,\"#c51b7d\"],[0.2,\"#de77ae\"],[0.3,\"#f1b6da\"],[0.4,\"#fde0ef\"],[0.5,\"#f7f7f7\"],[0.6,\"#e6f5d0\"],[0.7,\"#b8e186\"],[0.8,\"#7fbc41\"],[0.9,\"#4d9221\"],[1,\"#276419\"]]},\"xaxis\":{\"gridcolor\":\"white\",\"linecolor\":\"white\",\"ticks\":\"\",\"title\":{\"standoff\":15},\"zerolinecolor\":\"white\",\"automargin\":true,\"zerolinewidth\":2},\"yaxis\":{\"gridcolor\":\"white\",\"linecolor\":\"white\",\"ticks\":\"\",\"title\":{\"standoff\":15},\"zerolinecolor\":\"white\",\"automargin\":true,\"zerolinewidth\":2},\"scene\":{\"xaxis\":{\"backgroundcolor\":\"#E5ECF6\",\"gridcolor\":\"white\",\"linecolor\":\"white\",\"showbackground\":true,\"ticks\":\"\",\"zerolinecolor\":\"white\",\"gridwidth\":2},\"yaxis\":{\"backgroundcolor\":\"#E5ECF6\",\"gridcolor\":\"white\",\"linecolor\":\"white\",\"showbackground\":true,\"ticks\":\"\",\"zerolinecolor\":\"white\",\"gridwidth\":2},\"zaxis\":{\"backgroundcolor\":\"#E5ECF6\",\"gridcolor\":\"white\",\"linecolor\":\"white\",\"showbackground\":true,\"ticks\":\"\",\"zerolinecolor\":\"white\",\"gridwidth\":2}},\"shapedefaults\":{\"line\":{\"color\":\"#2a3f5f\"}},\"annotationdefaults\":{\"arrowcolor\":\"#2a3f5f\",\"arrowhead\":0,\"arrowwidth\":1},\"geo\":{\"bgcolor\":\"white\",\"landcolor\":\"#E5ECF6\",\"subunitcolor\":\"white\",\"showland\":true,\"showlakes\":true,\"lakecolor\":\"white\"},\"title\":{\"x\":0.05},\"mapbox\":{\"style\":\"light\"}}},\"scene\":{\"domain\":{\"x\":[0.0,1.0],\"y\":[0.0,1.0]},\"xaxis\":{\"title\":{\"text\":\"x\"}},\"yaxis\":{\"title\":{\"text\":\"y\"}},\"zaxis\":{\"title\":{\"text\":\"z\"}}},\"coloraxis\":{\"colorbar\":{\"title\":{\"text\":\"color\"}},\"colorscale\":[[0.0,\"#0d0887\"],[0.1111111111111111,\"#46039f\"],[0.2222222222222222,\"#7201a8\"],[0.3333333333333333,\"#9c179e\"],[0.4444444444444444,\"#bd3786\"],[0.5555555555555556,\"#d8576b\"],[0.6666666666666666,\"#ed7953\"],[0.7777777777777778,\"#fb9f3a\"],[0.8888888888888888,\"#fdca26\"],[1.0,\"#f0f921\"]]},\"legend\":{\"tracegroupgap\":0},\"title\":{\"text\":\"3D Scatter Plot\"}},                        {\"responsive\": true}                    ).then(function(){\n",
              "                            \n",
              "var gd = document.getElementById('5eb31a91-7430-4cf8-bcba-e02690bcbc54');\n",
              "var x = new MutationObserver(function (mutations, observer) {{\n",
              "        var display = window.getComputedStyle(gd).display;\n",
              "        if (!display || display === 'none') {{\n",
              "            console.log([gd, 'removed!']);\n",
              "            Plotly.purge(gd);\n",
              "            observer.disconnect();\n",
              "        }}\n",
              "}});\n",
              "\n",
              "// Listen for the removal of the full notebook cells\n",
              "var notebookContainer = gd.closest('#notebook-container');\n",
              "if (notebookContainer) {{\n",
              "    x.observe(notebookContainer, {childList: true});\n",
              "}}\n",
              "\n",
              "// Listen for the clearing of the current output cell\n",
              "var outputEl = gd.closest('.output');\n",
              "if (outputEl) {{\n",
              "    x.observe(outputEl, {childList: true});\n",
              "}}\n",
              "\n",
              "                        })                };                            </script>        </div>\n",
              "</body>\n",
              "</html>"
            ]
          },
          "metadata": {}
        }
      ]
    },
    {
      "cell_type": "code",
      "source": [],
      "metadata": {
        "id": "hm4dmH07p1U_"
      },
      "execution_count": null,
      "outputs": []
    }
  ]
}